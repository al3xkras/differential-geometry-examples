{
 "cells": [
  {
   "cell_type": "code",
   "execution_count": 2,
   "id": "db768844",
   "metadata": {},
   "outputs": [],
   "source": [
    "import sympy as sp\n",
    "import numpy as np\n",
    "from sympy import diff\n",
    "from IPython.display import display"
   ]
  },
  {
   "cell_type": "code",
   "execution_count": 3,
   "id": "afbefed5",
   "metadata": {},
   "outputs": [],
   "source": [
    "from commons import Surface,SurfaceCurve"
   ]
  },
  {
   "cell_type": "code",
   "execution_count": 4,
   "id": "bdadf71b",
   "metadata": {},
   "outputs": [],
   "source": [
    "u,v = sp.symbols(\"u,v\")\n",
    "du,dv=sp.symbols(\"du,dv\")\n",
    "duAdv= sp.symbols(\"duAdv\")"
   ]
  },
  {
   "cell_type": "code",
   "execution_count": 5,
   "id": "33c24294",
   "metadata": {},
   "outputs": [],
   "source": [
    "s=sp.symbols(\"s\")\n",
    "\n",
    "surface=Surface(u,v,[\n",
    "    u,\n",
    "    v,\n",
    "    u**2+v**2\n",
    "])\n",
    "\n",
    "c1=SurfaceCurve(u,v,s,surface,[\n",
    "    sp.sqrt(s),#u(s)\n",
    "    -s#v(s)\n",
    "])"
   ]
  },
  {
   "cell_type": "code",
   "execution_count": 6,
   "id": "b54b95d0",
   "metadata": {},
   "outputs": [],
   "source": [
    "hparaboloid=Surface(u,v,[\n",
    "    u,\n",
    "    v,\n",
    "    u**2-v**2+2*u-10*v+17*u*v\n",
    "])"
   ]
  },
  {
   "cell_type": "code",
   "execution_count": 7,
   "id": "b11e32a9",
   "metadata": {},
   "outputs": [],
   "source": [
    "s=sp.symbols(\"s\")\n",
    "curve=SurfaceCurve(u,v,s,hparaboloid,[\n",
    "    -s+1,\n",
    "    sp.sqrt(s)\n",
    "])"
   ]
  },
  {
   "cell_type": "code",
   "execution_count": 8,
   "id": "67bf06c2",
   "metadata": {},
   "outputs": [
    {
     "data": {
      "text/latex": [
       "$\\displaystyle \\left[\\begin{matrix}\\frac{\\left(- 4 s^{\\frac{3}{2}} + \\sqrt{s} + 34 s\\right) \\left(2 u + 17 v + 2\\right)}{2 s^{\\frac{3}{2}} \\sqrt{108 \\sqrt{s} + 293 s^{2} + 39 s + 66} \\sqrt{293 u^{2} - 332 u + 293 v^{2} + 108 v + 105}} & - \\frac{\\left(- 4 s^{\\frac{3}{2}} + \\sqrt{s} + 34 s\\right) \\left(- 17 u + 2 v + 10\\right)}{2 s^{\\frac{3}{2}} \\sqrt{108 \\sqrt{s} + 293 s^{2} + 39 s + 66} \\sqrt{293 u^{2} - 332 u + 293 v^{2} + 108 v + 105}} & \\frac{4 s^{\\frac{3}{2}} - \\sqrt{s} - 34 s}{2 s^{\\frac{3}{2}} \\sqrt{108 \\sqrt{s} + 293 s^{2} + 39 s + 66} \\sqrt{293 u^{2} - 332 u + 293 v^{2} + 108 v + 105}}\\end{matrix}\\right]$"
      ],
      "text/plain": [
       "[(-4*s**(3/2) + sqrt(s) + 34*s)*(2*u + 17*v + 2)/(2*s**(3/2)*sqrt(108*sqrt(s) + 293*s**2 + 39*s + 66)*sqrt(293*u**2 - 332*u + 293*v**2 + 108*v + 105)), -(-4*s**(3/2) + sqrt(s) + 34*s)*(-17*u + 2*v + 10)/(2*s**(3/2)*sqrt(108*sqrt(s) + 293*s**2 + 39*s + 66)*sqrt(293*u**2 - 332*u + 293*v**2 + 108*v + 105)), (4*s**(3/2) - sqrt(s) - 34*s)/(2*s**(3/2)*sqrt(108*sqrt(s) + 293*s**2 + 39*s + 66)*sqrt(293*u**2 - 332*u + 293*v**2 + 108*v + 105))]"
      ]
     },
     "metadata": {},
     "output_type": "display_data"
    },
    {
     "data": {
      "text/latex": [
       "$\\displaystyle \\left[\\begin{matrix}- \\frac{\\left(- 4 s^{\\frac{3}{2}} + \\sqrt{s} + 34 s\\right) \\left(2 u + 17 v + 2\\right)}{2 s^{\\frac{3}{2}} \\sqrt{108 \\sqrt{s} + 293 s^{2} + 39 s + 66} \\sqrt{293 u^{2} - 332 u + 293 v^{2} + 108 v + 105}} & \\frac{2 \\left(- 4 s^{\\frac{3}{2}} + \\sqrt{s} + 34 s\\right) \\left(- 17 u + 2 v + 10\\right) - \\sqrt{108 \\sqrt{s} + 293 s^{2} + 39 s + 66} \\sqrt{293 u^{2} - 332 u + 293 v^{2} + 108 v + 105}}{4 s^{\\frac{3}{2}} \\sqrt{108 \\sqrt{s} + 293 s^{2} + 39 s + 66} \\sqrt{293 u^{2} - 332 u + 293 v^{2} + 108 v + 105}} & 2 - \\frac{51}{4 \\sqrt{s}} + \\frac{- 4 s^{\\frac{3}{2}} + \\sqrt{s} + 34 s}{2 s^{\\frac{3}{2}} \\sqrt{108 \\sqrt{s} + 293 s^{2} + 39 s + 66} \\sqrt{293 u^{2} - 332 u + 293 v^{2} + 108 v + 105}} - \\frac{7}{4 s^{\\frac{3}{2}}}\\end{matrix}\\right]$"
      ],
      "text/plain": [
       "[-(-4*s**(3/2) + sqrt(s) + 34*s)*(2*u + 17*v + 2)/(2*s**(3/2)*sqrt(108*sqrt(s) + 293*s**2 + 39*s + 66)*sqrt(293*u**2 - 332*u + 293*v**2 + 108*v + 105)), (2*(-4*s**(3/2) + sqrt(s) + 34*s)*(-17*u + 2*v + 10) - sqrt(108*sqrt(s) + 293*s**2 + 39*s + 66)*sqrt(293*u**2 - 332*u + 293*v**2 + 108*v + 105))/(4*s**(3/2)*sqrt(108*sqrt(s) + 293*s**2 + 39*s + 66)*sqrt(293*u**2 - 332*u + 293*v**2 + 108*v + 105)), 2 - 51/(4*sqrt(s)) + (-4*s**(3/2) + sqrt(s) + 34*s)/(2*s**(3/2)*sqrt(108*sqrt(s) + 293*s**2 + 39*s + 66)*sqrt(293*u**2 - 332*u + 293*v**2 + 108*v + 105)) - 7/(4*s**(3/2))]"
      ]
     },
     "metadata": {},
     "output_type": "display_data"
    }
   ],
   "source": [
    "k_n,k_g=curve.curvature_vectors()\n",
    "display(k_n)\n",
    "display(k_g)"
   ]
  },
  {
   "cell_type": "code",
   "execution_count": 9,
   "id": "9221e54f",
   "metadata": {},
   "outputs": [],
   "source": [
    "ellipse=Surface(u,v,[\n",
    "    sp.cos(u)*sp.cos(v),\n",
    "    sp.cos(u)*sp.sin(v),\n",
    "    sp.sin(u)\n",
    "])"
   ]
  },
  {
   "cell_type": "code",
   "execution_count": 10,
   "id": "50009f35",
   "metadata": {},
   "outputs": [
    {
     "data": {
      "text/plain": [
       "([0, b, -sqrt(1 - b**2)], [0, b, -sqrt(1 - b**2)])"
      ]
     },
     "execution_count": 10,
     "metadata": {},
     "output_type": "execute_result"
    }
   ],
   "source": [
    "ellipse.principal_directions(sp.pi,-sp.pi)"
   ]
  },
  {
   "cell_type": "code",
   "execution_count": 11,
   "id": "b3fe26e2",
   "metadata": {},
   "outputs": [
    {
     "data": {
      "text/plain": [
       "[]"
      ]
     },
     "execution_count": 11,
     "metadata": {},
     "output_type": "execute_result"
    }
   ],
   "source": [
    "ellipse.find_umbilic_points()"
   ]
  },
  {
   "cell_type": "code",
   "execution_count": 12,
   "id": "3116f9a8",
   "metadata": {},
   "outputs": [
    {
     "data": {
      "text/latex": [
       "$\\displaystyle \\left[\\begin{matrix}- \\frac{u \\left(4 s + 1\\right)}{s \\sqrt{4 s^{2} + 4 s + 1} \\sqrt{4 u^{2} + 4 v^{2} + 1}} & - \\frac{v \\left(4 s + 1\\right)}{s \\sqrt{4 s^{2} + 4 s + 1} \\sqrt{4 u^{2} + 4 v^{2} + 1}} & \\frac{4 s + 1}{2 s \\sqrt{4 s^{2} + 4 s + 1} \\sqrt{4 u^{2} + 4 v^{2} + 1}}\\end{matrix}\\right]$"
      ],
      "text/plain": [
       "[-u*(4*s + 1)/(s*sqrt(4*s**2 + 4*s + 1)*sqrt(4*u**2 + 4*v**2 + 1)), -v*(4*s + 1)/(s*sqrt(4*s**2 + 4*s + 1)*sqrt(4*u**2 + 4*v**2 + 1)), (4*s + 1)/(2*s*sqrt(4*s**2 + 4*s + 1)*sqrt(4*u**2 + 4*v**2 + 1))]"
      ]
     },
     "metadata": {},
     "output_type": "display_data"
    },
    {
     "data": {
      "text/latex": [
       "$\\displaystyle \\left[\\begin{matrix}\\frac{4 u}{\\sqrt{4 s^{2} + 4 s + 1} \\sqrt{4 u^{2} + 4 v^{2} + 1}} + \\frac{u}{s \\sqrt{4 s^{2} + 4 s + 1} \\sqrt{4 u^{2} + 4 v^{2} + 1}} - \\frac{1}{4 s^{\\frac{3}{2}}} & \\frac{v \\left(4 s + 1\\right)}{s \\sqrt{4 s^{2} + 4 s + 1} \\sqrt{4 u^{2} + 4 v^{2} + 1}} & 2 - \\frac{4 s + 1}{2 s \\sqrt{4 s^{2} + 4 s + 1} \\sqrt{4 u^{2} + 4 v^{2} + 1}}\\end{matrix}\\right]$"
      ],
      "text/plain": [
       "[4*u/(sqrt(4*s**2 + 4*s + 1)*sqrt(4*u**2 + 4*v**2 + 1)) + u/(s*sqrt(4*s**2 + 4*s + 1)*sqrt(4*u**2 + 4*v**2 + 1)) - 1/(4*s**(3/2)), v*(4*s + 1)/(s*sqrt(4*s**2 + 4*s + 1)*sqrt(4*u**2 + 4*v**2 + 1)), 2 - (4*s + 1)/(2*s*sqrt(4*s**2 + 4*s + 1)*sqrt(4*u**2 + 4*v**2 + 1))]"
      ]
     },
     "metadata": {},
     "output_type": "display_data"
    }
   ],
   "source": [
    "k_n,k_g=c1.curvature_vectors()\n",
    "display(k_n)\n",
    "display(k_g)"
   ]
  },
  {
   "cell_type": "code",
   "execution_count": 13,
   "id": "c2788854",
   "metadata": {},
   "outputs": [
    {
     "data": {
      "text/latex": [
       "$\\displaystyle \\left[\\begin{matrix}- \\frac{1}{4 s^{\\frac{3}{2}}} & 0 & 2\\end{matrix}\\right]$"
      ],
      "text/plain": [
       "[-1/(4*s**(3/2)), 0, 2]"
      ]
     },
     "execution_count": 13,
     "metadata": {},
     "output_type": "execute_result"
    }
   ],
   "source": [
    "c1.d2pdiffs2"
   ]
  },
  {
   "cell_type": "code",
   "execution_count": 14,
   "id": "8c85d56e",
   "metadata": {},
   "outputs": [
    {
     "data": {
      "text/latex": [
       "$\\displaystyle \\left[\\begin{matrix}- \\frac{1}{4 s^{\\frac{3}{2}}} & 0 & 2\\end{matrix}\\right]$"
      ],
      "text/plain": [
       "[-1/(4*s**(3/2)), 0, 2]"
      ]
     },
     "execution_count": 14,
     "metadata": {},
     "output_type": "execute_result"
    }
   ],
   "source": [
    "(k_n+k_g).simplify()"
   ]
  },
  {
   "cell_type": "code",
   "execution_count": 15,
   "id": "cdb7ff19",
   "metadata": {},
   "outputs": [
    {
     "data": {
      "text/latex": [
       "$\\displaystyle \\left[\\begin{matrix}-1 & 0 & 0\\end{matrix}\\right]$"
      ],
      "text/plain": [
       "[-1, 0, 0]"
      ]
     },
     "metadata": {},
     "output_type": "display_data"
    },
    {
     "data": {
      "text/latex": [
       "$\\displaystyle \\left[\\begin{matrix}0 & \\frac{\\sqrt{17}}{17} & \\frac{4 \\sqrt{17}}{17}\\end{matrix}\\right]$"
      ],
      "text/plain": [
       "[0, sqrt(17)/17, 4*sqrt(17)/17]"
      ]
     },
     "metadata": {},
     "output_type": "display_data"
    }
   ],
   "source": [
    "#Principal directions at p0 = (0,2)\n",
    "w1,w2=surface.principal_directions(0,2)\n",
    "display(w1)\n",
    "display(w2)"
   ]
  },
  {
   "cell_type": "code",
   "execution_count": 16,
   "id": "95e388bf",
   "metadata": {},
   "outputs": [
    {
     "data": {
      "text/plain": [
       "[(-sqrt(-v**2), v), (sqrt(-v**2), v)]"
      ]
     },
     "execution_count": 16,
     "metadata": {},
     "output_type": "execute_result"
    }
   ],
   "source": [
    "#Umbilic points\n",
    "surface.find_umbilic_points()"
   ]
  },
  {
   "cell_type": "code",
   "execution_count": null,
   "id": "4c12c9a1",
   "metadata": {},
   "outputs": [],
   "source": []
  }
 ],
 "metadata": {
  "kernelspec": {
   "display_name": "Python 3 (ipykernel)",
   "language": "python",
   "name": "python3"
  },
  "language_info": {
   "codemirror_mode": {
    "name": "ipython",
    "version": 3
   },
   "file_extension": ".py",
   "mimetype": "text/x-python",
   "name": "python",
   "nbconvert_exporter": "python",
   "pygments_lexer": "ipython3",
   "version": "3.10.7"
  }
 },
 "nbformat": 4,
 "nbformat_minor": 5
}
