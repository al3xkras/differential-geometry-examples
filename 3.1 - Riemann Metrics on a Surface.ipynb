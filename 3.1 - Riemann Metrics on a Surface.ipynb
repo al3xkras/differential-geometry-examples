{
 "cells": [
  {
   "cell_type": "code",
   "execution_count": 1,
   "id": "003e0c12",
   "metadata": {},
   "outputs": [],
   "source": [
    "import sympy as sp\n",
    "import numpy as np\n",
    "from sympy import diff\n",
    "from IPython.display import display"
   ]
  },
  {
   "cell_type": "code",
   "execution_count": 2,
   "id": "a1f8dfa9",
   "metadata": {},
   "outputs": [],
   "source": [
    "from commons import Surface,MethodOfOrthonormalFrames"
   ]
  },
  {
   "cell_type": "code",
   "execution_count": 3,
   "id": "896b57f3",
   "metadata": {},
   "outputs": [],
   "source": [
    "u,v = sp.symbols(\"u,v\")\n",
    "du,dv=sp.symbols(\"du,dv\")"
   ]
  },
  {
   "cell_type": "code",
   "execution_count": 4,
   "id": "75fbaef8",
   "metadata": {},
   "outputs": [],
   "source": [
    "#We choose such paramethrization of X(u),Y(u) that:\n",
    "# (dx/du)**2 + (dy/du)**2 = 1\n",
    "\n",
    "def x(u):\n",
    "    return (u+5)/sp.sqrt(2)\n",
    "\n",
    "def y(u):\n",
    "    return (-u-1)/sp.sqrt(2)\n",
    "\n",
    "def z(v):\n",
    "    return v\n",
    "\n",
    "assert diff(x(u),u)**2+diff(y(u),u)**2 == 1"
   ]
  },
  {
   "cell_type": "code",
   "execution_count": 5,
   "id": "a9721202",
   "metadata": {},
   "outputs": [],
   "source": [
    "#The First fundamental form is given by: I = (du)**2+(dv)**2\n",
    "#The Mean curvature H is not determined by the I fundamental form alone\n",
    "#On the other hand, the Gaussian curvature K depends only on the I fundamental form\n",
    "\n",
    "#Consider I = Edudu +2Fdudv + Gdvdv (3.1.4) in a domain D of the (u,v) plane\n",
    "#When (3.1.4) is positive definite form, we call it a Riemann metrics on D\n",
    "\n",
    "#Let s - a parameter which represents length.\n",
    "# => Edudu/dsds +2Fdudv/dsds + Gdvdv/dsds = 1 <=>\n",
    "# dsds = Edudu +2Fdudv + Gdvdv; ds**2 <=> a Riemann metrics"
   ]
  },
  {
   "cell_type": "markdown",
   "id": "4a48da7e",
   "metadata": {},
   "source": [
    "# Example 1"
   ]
  },
  {
   "cell_type": "markdown",
   "id": "69c174a2",
   "metadata": {},
   "source": [
    "Poincarre metrics:\n",
    "\n",
    "Let D = {(u,v) | u**2+v**2<1}\n",
    "\n",
    "$\\text{We call } ds^2 = 4\\frac{(du)^2 +(dv)^2}{(1-u^2+v^2)^2} \\text{ the }\\textbf{Poincarre metrics}$"
   ]
  },
  {
   "cell_type": "markdown",
   "id": "201f5592",
   "metadata": {},
   "source": [
    "Let w = u + i*v (using the complex plane)\n",
    "\n",
    "\n",
    "$\\text{=> We can rewrite the Poincarre metrics as follows: }$\n",
    "$$ds^2 = \\frac{4dwd\\overline{w}}{1-|w|^2}$$\n",
    "$\\text{Where } dw = du + idv, d\\overline{w} = du − idv$"
   ]
  },
  {
   "cell_type": "markdown",
   "id": "691a85a7",
   "metadata": {},
   "source": [
    "# Example 2"
   ]
  },
  {
   "cell_type": "markdown",
   "id": "e9b4d421",
   "metadata": {},
   "source": [
    "Let U = {(x,y) | y>0}\n",
    "\n",
    "Let z = i+xy\n",
    "\n",
    "The example below is equivalent to the Poincarre metrics:\n",
    "\n",
    "$$ds^2 = \\frac{(dx)^2 + (dy)^2}{y^2} \\equiv \\frac{dzd\\overline{z}}{y^2}$$\n",
    "\n",
    "Hint: use transformation $z = i\\frac{1-w}{1+w}$\n",
    "the inverse map: $w = \\frac{i-z}{i+z}$"
   ]
  },
  {
   "cell_type": "markdown",
   "id": "0ae18d70",
   "metadata": {},
   "source": [
    "#### Problem 3.1.1 Compare the first and second fundamental forms, H, K, κ1, and κ2 of a catenoid"
   ]
  },
  {
   "cell_type": "code",
   "execution_count": 6,
   "id": "1c1d6a04",
   "metadata": {},
   "outputs": [],
   "source": [
    "# Problem 3.1.1 Compare the first and second fundamental forms, H, K, κ1, and κ2 of a catenoid\n",
    "catenoid = Surface(u,v,[\n",
    "    sp.sqrt(u**2+1)*sp.sin(v),\n",
    "    sp.sqrt(u**2+1)*sp.cos(v),\n",
    "    sp.asinh(u)\n",
    "])\n",
    "# with those of a right helicoid:\n",
    "helicoid = Surface(u,v,[\n",
    "    u*sp.cos(v),\n",
    "    u*sp.sin(v),\n",
    "    v\n",
    "])"
   ]
  },
  {
   "cell_type": "markdown",
   "id": "79e38930",
   "metadata": {},
   "source": [
    "## I(u,v)"
   ]
  },
  {
   "cell_type": "code",
   "execution_count": 7,
   "id": "0c24013f",
   "metadata": {},
   "outputs": [
    {
     "data": {
      "text/latex": [
       "$\\displaystyle du^{2} + dv^{2} \\left(u^{2} + 1\\right)$"
      ],
      "text/plain": [
       "du**2 + dv**2*(u**2 + 1)"
      ]
     },
     "metadata": {},
     "output_type": "display_data"
    },
    {
     "data": {
      "text/latex": [
       "$\\displaystyle du^{2} + dv^{2} u^{2} + dv^{2}$"
      ],
      "text/plain": [
       "du**2 + dv**2*u**2 + dv**2"
      ]
     },
     "metadata": {},
     "output_type": "display_data"
    }
   ],
   "source": [
    "display(helicoid.I(du,dv))\n",
    "display(catenoid.I(du,dv))"
   ]
  },
  {
   "cell_type": "markdown",
   "id": "77546b8e",
   "metadata": {},
   "source": [
    "## II(u,v)"
   ]
  },
  {
   "cell_type": "code",
   "execution_count": 8,
   "id": "2344d522",
   "metadata": {},
   "outputs": [
    {
     "data": {
      "text/latex": [
       "$\\displaystyle - \\frac{2 du dv}{\\sqrt{u^{2} + 1}}$"
      ],
      "text/plain": [
       "-2*du*dv/sqrt(u**2 + 1)"
      ]
     },
     "metadata": {},
     "output_type": "display_data"
    },
    {
     "data": {
      "text/latex": [
       "$\\displaystyle \\frac{du^{2} - dv^{2} u^{2} - dv^{2}}{u^{2} + 1}$"
      ],
      "text/plain": [
       "(du**2 - dv**2*u**2 - dv**2)/(u**2 + 1)"
      ]
     },
     "metadata": {},
     "output_type": "display_data"
    }
   ],
   "source": [
    "display(helicoid.II(du,dv))\n",
    "display(catenoid.II(du,dv))"
   ]
  },
  {
   "cell_type": "markdown",
   "id": "2b0b9a22",
   "metadata": {},
   "source": [
    "## k1"
   ]
  },
  {
   "cell_type": "code",
   "execution_count": 9,
   "id": "c8c6605b",
   "metadata": {},
   "outputs": [
    {
     "data": {
      "text/latex": [
       "$\\displaystyle \\left[\\begin{matrix}- \\frac{1}{u^{2} + 1} & \\frac{1}{u^{2} + 1}\\end{matrix}\\right]$"
      ],
      "text/plain": [
       "[-1/(u**2 + 1), 1/(u**2 + 1)]"
      ]
     },
     "metadata": {},
     "output_type": "display_data"
    },
    {
     "data": {
      "text/latex": [
       "$\\displaystyle \\left[\\begin{matrix}- \\frac{1}{u^{2} + 1} & \\frac{1}{u^{2} + 1}\\end{matrix}\\right]$"
      ],
      "text/plain": [
       "[-1/(u**2 + 1), 1/(u**2 + 1)]"
      ]
     },
     "metadata": {},
     "output_type": "display_data"
    }
   ],
   "source": [
    "display(sp.Array(helicoid.k1))\n",
    "display(sp.Array(catenoid.k1))"
   ]
  },
  {
   "cell_type": "markdown",
   "id": "bc78cb9f",
   "metadata": {},
   "source": [
    "## k2"
   ]
  },
  {
   "cell_type": "code",
   "execution_count": 10,
   "id": "5f91e9f7",
   "metadata": {},
   "outputs": [
    {
     "data": {
      "text/latex": [
       "$\\displaystyle \\left[\\begin{matrix}\\frac{1}{u^{2} + 1} & - \\frac{1}{u^{2} + 1}\\end{matrix}\\right]$"
      ],
      "text/plain": [
       "[1/(u**2 + 1), -1/(u**2 + 1)]"
      ]
     },
     "metadata": {},
     "output_type": "display_data"
    },
    {
     "data": {
      "text/latex": [
       "$\\displaystyle \\left[\\begin{matrix}\\frac{1}{u^{2} + 1} & - \\frac{1}{u^{2} + 1}\\end{matrix}\\right]$"
      ],
      "text/plain": [
       "[1/(u**2 + 1), -1/(u**2 + 1)]"
      ]
     },
     "metadata": {},
     "output_type": "display_data"
    }
   ],
   "source": [
    "display(sp.Array(helicoid.k2))\n",
    "display(sp.Array(catenoid.k2))"
   ]
  },
  {
   "cell_type": "markdown",
   "id": "9afdc97a",
   "metadata": {},
   "source": [
    "## H"
   ]
  },
  {
   "cell_type": "code",
   "execution_count": 11,
   "id": "54796714",
   "metadata": {},
   "outputs": [
    {
     "data": {
      "text/latex": [
       "$\\displaystyle 0$"
      ],
      "text/plain": [
       "0"
      ]
     },
     "metadata": {},
     "output_type": "display_data"
    },
    {
     "data": {
      "text/latex": [
       "$\\displaystyle 0$"
      ],
      "text/plain": [
       "0"
      ]
     },
     "metadata": {},
     "output_type": "display_data"
    }
   ],
   "source": [
    "display(helicoid.H)\n",
    "display(catenoid.H)"
   ]
  },
  {
   "cell_type": "markdown",
   "id": "10e04e68",
   "metadata": {},
   "source": [
    "## K"
   ]
  },
  {
   "cell_type": "code",
   "execution_count": 12,
   "id": "d4a9decf",
   "metadata": {},
   "outputs": [
    {
     "data": {
      "text/latex": [
       "$\\displaystyle - \\frac{1}{\\left(u^{2} + 1\\right)^{2}}$"
      ],
      "text/plain": [
       "-1/(u**2 + 1)**2"
      ]
     },
     "metadata": {},
     "output_type": "display_data"
    },
    {
     "data": {
      "text/latex": [
       "$\\displaystyle - \\frac{1}{\\left(u^{2} + 1\\right)^{2}}$"
      ],
      "text/plain": [
       "-1/(u**2 + 1)**2"
      ]
     },
     "metadata": {},
     "output_type": "display_data"
    }
   ],
   "source": [
    "display(helicoid.K)\n",
    "display(catenoid.K)"
   ]
  },
  {
   "cell_type": "code",
   "execution_count": 13,
   "id": "b886e6e7",
   "metadata": {},
   "outputs": [
    {
     "data": {
      "text/latex": [
       "$\\displaystyle \\left[\\begin{matrix}0 & 0 & 0\\\\0 & 0 & - \\frac{1}{u^{2} + 1}\\\\0 & \\frac{1}{u^{2} + 1} & 0\\end{matrix}\\right]$"
      ],
      "text/plain": [
       "Matrix([\n",
       "[0,            0,             0],\n",
       "[0,            0, -1/(u**2 + 1)],\n",
       "[0, 1/(u**2 + 1),             0]])"
      ]
     },
     "metadata": {},
     "output_type": "display_data"
    },
    {
     "data": {
      "text/latex": [
       "$\\displaystyle \\left[\\begin{matrix}0 & \\frac{u}{\\sqrt{u^{2} + 1}} & - \\frac{1}{\\sqrt{u^{2} + 1}}\\\\- \\frac{u}{\\sqrt{u^{2} + 1}} & 0 & 0\\\\\\frac{1}{\\sqrt{u^{2} + 1}} & 0 & 0\\end{matrix}\\right]$"
      ],
      "text/plain": [
       "Matrix([\n",
       "[                0, u/sqrt(u**2 + 1), -1/sqrt(u**2 + 1)],\n",
       "[-u/sqrt(u**2 + 1),                0,                 0],\n",
       "[ 1/sqrt(u**2 + 1),                0,                 0]])"
      ]
     },
     "metadata": {},
     "output_type": "display_data"
    },
    {
     "data": {
      "text/latex": [
       "$\\displaystyle \\left[\\begin{matrix}1 & 0\\\\0 & \\sqrt{u^{2} + 1}\\end{matrix}\\right]$"
      ],
      "text/plain": [
       "Matrix([\n",
       "[1,              0],\n",
       "[0, sqrt(u**2 + 1)]])"
      ]
     },
     "metadata": {},
     "output_type": "display_data"
    },
    {
     "data": {
      "text/latex": [
       "$\\displaystyle \\left[\\begin{matrix}0 & - \\frac{1}{u^{2} + 1}\\\\- \\frac{1}{u^{2} + 1} & 0\\end{matrix}\\right]$"
      ],
      "text/plain": [
       "Matrix([\n",
       "[            0, -1/(u**2 + 1)],\n",
       "[-1/(u**2 + 1),             0]])"
      ]
     },
     "metadata": {},
     "output_type": "display_data"
    }
   ],
   "source": [
    "h=MethodOfOrthonormalFrames(helicoid)\n",
    "alpha,beta=h.calc_mat_W()\n",
    "display(alpha)\n",
    "display(beta)\n",
    "display(h.calc_mat_A())\n",
    "display(h.calc_mat_B())"
   ]
  },
  {
   "cell_type": "code",
   "execution_count": 14,
   "id": "3b9b99ed",
   "metadata": {},
   "outputs": [
    {
     "data": {
      "text/latex": [
       "$\\displaystyle \\left[\\begin{matrix}0 & 0 & \\frac{1}{u^{2} + 1}\\\\0 & 0 & 0\\\\- \\frac{1}{u^{2} + 1} & 0 & 0\\end{matrix}\\right]$"
      ],
      "text/plain": [
       "Matrix([\n",
       "[            0, 0, 1/(u**2 + 1)],\n",
       "[            0, 0,            0],\n",
       "[-1/(u**2 + 1), 0,            0]])"
      ]
     },
     "metadata": {},
     "output_type": "display_data"
    },
    {
     "data": {
      "text/latex": [
       "$\\displaystyle \\left[\\begin{matrix}0 & \\frac{u}{\\sqrt{u^{2} + 1}} & 0\\\\- \\frac{u}{\\sqrt{u^{2} + 1}} & 0 & - \\frac{1}{\\sqrt{u^{2} + 1}}\\\\0 & \\frac{1}{\\sqrt{u^{2} + 1}} & 0\\end{matrix}\\right]$"
      ],
      "text/plain": [
       "Matrix([\n",
       "[                0, u/sqrt(u**2 + 1),                 0],\n",
       "[-u/sqrt(u**2 + 1),                0, -1/sqrt(u**2 + 1)],\n",
       "[                0, 1/sqrt(u**2 + 1),                 0]])"
      ]
     },
     "metadata": {},
     "output_type": "display_data"
    },
    {
     "data": {
      "text/latex": [
       "$\\displaystyle \\left[\\begin{matrix}1 & 0\\\\0 & \\sqrt{u^{2} + 1}\\end{matrix}\\right]$"
      ],
      "text/plain": [
       "Matrix([\n",
       "[1,              0],\n",
       "[0, sqrt(u**2 + 1)]])"
      ]
     },
     "metadata": {},
     "output_type": "display_data"
    },
    {
     "data": {
      "text/latex": [
       "$\\displaystyle \\left[\\begin{matrix}\\frac{1}{u^{2} + 1} & 0\\\\0 & - \\frac{1}{u^{2} + 1}\\end{matrix}\\right]$"
      ],
      "text/plain": [
       "Matrix([\n",
       "[1/(u**2 + 1),             0],\n",
       "[           0, -1/(u**2 + 1)]])"
      ]
     },
     "metadata": {},
     "output_type": "display_data"
    }
   ],
   "source": [
    "c=MethodOfOrthonormalFrames(catenoid)\n",
    "alpha,beta=c.calc_mat_W()\n",
    "display(alpha)\n",
    "display(beta)\n",
    "display(c.calc_mat_A())\n",
    "display(c.calc_mat_B())"
   ]
  },
  {
   "cell_type": "code",
   "execution_count": 15,
   "id": "e0121ded",
   "metadata": {},
   "outputs": [
    {
     "name": "stdout",
     "output_type": "stream",
     "text": [
      "Catenoid\n"
     ]
    },
    {
     "data": {
      "text/latex": [
       "$\\displaystyle \\left[\\begin{matrix}\\frac{u \\sin{\\left(v \\right)}}{\\sqrt{u^{2} + 1}} & \\frac{u \\cos{\\left(v \\right)}}{\\sqrt{u^{2} + 1}} & \\frac{1}{\\sqrt{u^{2} + 1}}\\end{matrix}\\right]$"
      ],
      "text/plain": [
       "[u*sin(v)/sqrt(u**2 + 1), u*cos(v)/sqrt(u**2 + 1), 1/sqrt(u**2 + 1)]"
      ]
     },
     "metadata": {},
     "output_type": "display_data"
    },
    {
     "data": {
      "text/latex": [
       "$\\displaystyle \\left[\\begin{matrix}\\cos{\\left(v \\right)} & - \\sin{\\left(v \\right)} & 0\\end{matrix}\\right]$"
      ],
      "text/plain": [
       "[cos(v), -sin(v), 0]"
      ]
     },
     "metadata": {},
     "output_type": "display_data"
    },
    {
     "data": {
      "text/latex": [
       "$\\displaystyle \\left[\\begin{matrix}\\frac{\\sin{\\left(v \\right)}}{\\sqrt{u^{2} + 1}} & \\frac{\\cos{\\left(v \\right)}}{\\sqrt{u^{2} + 1}} & - \\frac{u}{\\sqrt{u^{2} + 1}}\\end{matrix}\\right]$"
      ],
      "text/plain": [
       "[sin(v)/sqrt(u**2 + 1), cos(v)/sqrt(u**2 + 1), -u/sqrt(u**2 + 1)]"
      ]
     },
     "metadata": {},
     "output_type": "display_data"
    },
    {
     "name": "stdout",
     "output_type": "stream",
     "text": [
      "\n",
      "Helicoid\n"
     ]
    },
    {
     "data": {
      "text/latex": [
       "$\\displaystyle \\left[\\begin{matrix}\\cos{\\left(v \\right)} & \\sin{\\left(v \\right)} & 0\\end{matrix}\\right]$"
      ],
      "text/plain": [
       "[cos(v), sin(v), 0]"
      ]
     },
     "metadata": {},
     "output_type": "display_data"
    },
    {
     "data": {
      "text/latex": [
       "$\\displaystyle \\left[\\begin{matrix}- \\frac{u \\sin{\\left(v \\right)}}{\\sqrt{u^{2} + 1}} & \\frac{u \\cos{\\left(v \\right)}}{\\sqrt{u^{2} + 1}} & \\frac{1}{\\sqrt{u^{2} + 1}}\\end{matrix}\\right]$"
      ],
      "text/plain": [
       "[-u*sin(v)/sqrt(u**2 + 1), u*cos(v)/sqrt(u**2 + 1), 1/sqrt(u**2 + 1)]"
      ]
     },
     "metadata": {},
     "output_type": "display_data"
    },
    {
     "data": {
      "text/latex": [
       "$\\displaystyle \\left[\\begin{matrix}\\frac{\\sin{\\left(v \\right)}}{\\sqrt{u^{2} + 1}} & - \\frac{\\cos{\\left(v \\right)}}{\\sqrt{u^{2} + 1}} & \\frac{u}{\\sqrt{u^{2} + 1}}\\end{matrix}\\right]$"
      ],
      "text/plain": [
       "[sin(v)/sqrt(u**2 + 1), -cos(v)/sqrt(u**2 + 1), u/sqrt(u**2 + 1)]"
      ]
     },
     "metadata": {},
     "output_type": "display_data"
    }
   ],
   "source": [
    "def display_frame(c):\n",
    "    display(sp.Array(c.e1).simplify())\n",
    "    display(sp.Array(c.e2).simplify())\n",
    "    display(sp.Array(c.e3).simplify())\n",
    "    \n",
    "print(\"Catenoid\")\n",
    "display_frame(c)\n",
    "print(\"\\nHelicoid\")\n",
    "display_frame(h)\n"
   ]
  },
  {
   "cell_type": "code",
   "execution_count": null,
   "id": "5e07fc8e",
   "metadata": {},
   "outputs": [],
   "source": []
  }
 ],
 "metadata": {
  "kernelspec": {
   "display_name": "Python 3 (ipykernel)",
   "language": "python",
   "name": "python3"
  },
  "language_info": {
   "codemirror_mode": {
    "name": "ipython",
    "version": 3
   },
   "file_extension": ".py",
   "mimetype": "text/x-python",
   "name": "python",
   "nbconvert_exporter": "python",
   "pygments_lexer": "ipython3",
   "version": "3.10.7"
  }
 },
 "nbformat": 4,
 "nbformat_minor": 5
}
