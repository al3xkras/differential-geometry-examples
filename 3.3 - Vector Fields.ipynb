{
 "cells": [
  {
   "cell_type": "code",
   "execution_count": 169,
   "id": "db768844",
   "metadata": {},
   "outputs": [],
   "source": [
    "import sympy as sp\n",
    "import numpy as np\n",
    "from sympy import diff\n",
    "from IPython.display import display"
   ]
  },
  {
   "cell_type": "code",
   "execution_count": 170,
   "id": "afbefed5",
   "metadata": {},
   "outputs": [],
   "source": [
    "from commons import MethodOfOrthonormalFrames,StructureEquations"
   ]
  },
  {
   "cell_type": "code",
   "execution_count": 12,
   "id": "bdadf71b",
   "metadata": {},
   "outputs": [],
   "source": [
    "u,v = sp.symbols(\"u,v\")\n",
    "du,dv=sp.symbols(\"du,dv\")\n",
    "duAdv= sp.symbols(\"duAdv\")"
   ]
  },
  {
   "cell_type": "code",
   "execution_count": 161,
   "id": "d677b596",
   "metadata": {},
   "outputs": [],
   "source": [
    "class Surface:\n",
    "    def __init__(self,u,v,p:tuple):\n",
    "        self.u=u\n",
    "        self.v=v\n",
    "        self.p=p\n",
    "        \n",
    "        self.p_u=[diff(x,self.u) for x in self.p]\n",
    "        self.p_v=[diff(x,self.v) for x in self.p]\n",
    "        \n",
    "        self.p_uu=[diff(x,self.u) for x in self.p_u]\n",
    "        self.p_uv=[diff(x,self.v) for x in self.p_u]\n",
    "        self.p_vv=[diff(x,self.v) for x in self.p_v]\n",
    "        \n",
    "        E=np.dot(self.p_u,self.p_u)\n",
    "        F=np.dot(self.p_u,self.p_v)\n",
    "        G=np.dot(self.p_v,self.p_v)\n",
    "        self.E=E\n",
    "        self.F=F\n",
    "        self.G=G\n",
    "        \n",
    "        e=np.cross(self.p_u,self.p_v)\n",
    "        e_mod=sp.sqrt(np.dot(e,e))\n",
    "        self.e=[(x/e_mod).simplify() for x in e]\n",
    "        \n",
    "        L=np.dot(self.p_uu,self.e)\n",
    "        M=np.dot(self.p_uv,self.e)\n",
    "        N=np.dot(self.p_vv,self.e)\n",
    "        self.L=L\n",
    "        self.M=M\n",
    "        self.N=N\n",
    "        self.K = (L*N-M**2)/(E*G-F**2)\n",
    "        self.H = (E*N+G*L-2*F*M)/(2*E*G-2*F**2)\n",
    "        self.K=self.K.simplify()\n",
    "        self.H=self.H.simplify()\n",
    "        k1,k2=sp.symbols(\"k1,k2\")\n",
    "        \n",
    "        k1k2=sp.solve([\n",
    "            k1*k2-self.K,\n",
    "            (k1+k2)-2*self.H\n",
    "        ],(k1,k2))\n",
    "        self.k1=k1k2[0][0]\n",
    "        self.k2=k1k2[0][1]\n",
    "        \n",
    "    def val(self,u,v):\n",
    "        return tuple(x.subs(self.u,u).subs(self.v,v).evalf() for x in self.p)\n",
    "\n",
    "    def e_val(self,u,v):\n",
    "        return tuple(x.subs(self.u,u).subs(self.v,v).evalf() for x in self.e)\n",
    "    \n",
    "    def I(self,du,dv):\n",
    "        return (self.E*du*du + 2*self.F*du*dv + self.G*dv*dv).simplify()\n",
    "    \n",
    "    def II(self,du,dv):\n",
    "        return (self.L*du*du + 2*self.M*du*dv + self.N*dv*dv).simplify()\n",
    "    \n",
    "    def III(self,du,dv):\n",
    "        return (-self.K*self.I(du,dv)+2*self.H*self.II(du,dv)).simplify()\n",
    "    \n",
    "    def principal_directions(self,u0,v0):\n",
    "        k1,k2=self.k1,self.k2\n",
    "        \n",
    "        E,F,G,L,M,N=self.E,self.F,self.G,self.L,self.M,self.N\n",
    "        k1,k2,E,F,G,L,M,N=[m.subs(self.u,u0).subs(self.v,v0) for m in [k1,k2,E,F,G,L,M,N]]\n",
    "        \n",
    "        a,b=sp.symbols(\"a,b\")\n",
    "        #II(w1) = k1; II(w2) = k2\n",
    "        #E(a,b) da da + 2 F da db + G db db = k1\n",
    "        #E(a,b) (da/du)**2 * dudu + ... = k1\n",
    "        \n",
    "        p_u=sp.Array(self.p_u).subs(self.u,u0).subs(self.v,v0)\n",
    "        p_v=sp.Array(self.p_v).subs(self.u,u0).subs(self.v,v0)\n",
    "        w=sp.solve([\n",
    "            L*a + M*b -k1*(E*a + F*b),\n",
    "            M*a + N*b -k1*(F*a + G*b),\n",
    "            np.dot(a*p_u+b*p_v,a*p_u+b*p_v)-1\n",
    "        ],(a,b))\n",
    "        \n",
    "        w1=w[0][0]*p_u+w[0][1]*p_v\n",
    "        w2=w[1][0]*p_u+w[1][1]*p_v\n",
    "        return w1,w2\n",
    "    \n",
    "\n",
    "class SurfaceCurve:\n",
    "    def __init__(self, u,v,s, surface, curve:list):\n",
    "        self.u=u\n",
    "        self.v=v\n",
    "        if isinstance(surface,list):\n",
    "            self.surface=Surface(u,v,surface)\n",
    "        else:\n",
    "            assert surface.u==u and surface.v==v\n",
    "            self.surface=surface\n",
    "        # u(s), v(s)\n",
    "        self.curve=curve\n",
    "    \n",
    "    def normal_curvature(self):\n",
    "        pass\n",
    "    \n",
    "    def geodesic_curvature(self):\n",
    "        pass\n",
    "    \n",
    "    "
   ]
  },
  {
   "cell_type": "code",
   "execution_count": 162,
   "id": "c2788854",
   "metadata": {},
   "outputs": [],
   "source": [
    "surface=Surface(u,v,[\n",
    "    sp.cos(u)*sp.cos(v),\n",
    "    sp.cos(u)*sp.sin(v),\n",
    "    sp.sin(u)\n",
    "])"
   ]
  },
  {
   "cell_type": "code",
   "execution_count": 163,
   "id": "cdb7ff19",
   "metadata": {},
   "outputs": [
    {
     "data": {
      "text/latex": [
       "$\\displaystyle \\left[\\begin{matrix}\\frac{\\sin{\\left(1 \\right)}}{\\sqrt{\\cos^{2}{\\left(1 \\right)} + \\sin^{2}{\\left(1 \\right)}}} & - \\frac{\\cos{\\left(1 \\right)}}{\\sqrt{\\cos^{2}{\\left(1 \\right)} + \\sin^{2}{\\left(1 \\right)}}} & 0\\end{matrix}\\right]$"
      ],
      "text/plain": [
       "[sin(1)/sqrt(cos(1)**2 + sin(1)**2), -cos(1)/sqrt(cos(1)**2 + sin(1)**2), 0]"
      ]
     },
     "metadata": {},
     "output_type": "display_data"
    },
    {
     "data": {
      "text/latex": [
       "$\\displaystyle \\left[\\begin{matrix}- \\frac{\\sin{\\left(1 \\right)}}{\\sqrt{\\cos^{2}{\\left(1 \\right)} + \\sin^{2}{\\left(1 \\right)}}} & \\frac{\\cos{\\left(1 \\right)}}{\\sqrt{\\cos^{2}{\\left(1 \\right)} + \\sin^{2}{\\left(1 \\right)}}} & 0\\end{matrix}\\right]$"
      ],
      "text/plain": [
       "[-sin(1)/sqrt(cos(1)**2 + sin(1)**2), cos(1)/sqrt(cos(1)**2 + sin(1)**2), 0]"
      ]
     },
     "metadata": {},
     "output_type": "display_data"
    }
   ],
   "source": [
    "w1,w2=surface.principal_directions(0,1)\n",
    "display(w1)\n",
    "display(w2)"
   ]
  },
  {
   "cell_type": "code",
   "execution_count": 164,
   "id": "33c24294",
   "metadata": {},
   "outputs": [],
   "source": [
    "s=sp.symbols(\"s\")\n",
    "\n",
    "c1=SurfaceCurve(u,v,s,[\n",
    "    u*sp.cos(v),\n",
    "    u*sp.sin(v),\n",
    "    v\n",
    "],[\n",
    "    sp.sqrt(v),\n",
    "    -v+sp.cos(v)\n",
    "])"
   ]
  },
  {
   "cell_type": "code",
   "execution_count": 168,
   "id": "b7483533",
   "metadata": {},
   "outputs": [
    {
     "data": {
      "text/latex": [
       "$\\displaystyle 1$"
      ],
      "text/plain": [
       "1"
      ]
     },
     "execution_count": 168,
     "metadata": {},
     "output_type": "execute_result"
    }
   ],
   "source": [
    "np.dot(w2,w2).simplify()"
   ]
  },
  {
   "cell_type": "code",
   "execution_count": null,
   "id": "a436eb60",
   "metadata": {},
   "outputs": [],
   "source": []
  }
 ],
 "metadata": {
  "kernelspec": {
   "display_name": "Python 3 (ipykernel)",
   "language": "python",
   "name": "python3"
  },
  "language_info": {
   "codemirror_mode": {
    "name": "ipython",
    "version": 3
   },
   "file_extension": ".py",
   "mimetype": "text/x-python",
   "name": "python",
   "nbconvert_exporter": "python",
   "pygments_lexer": "ipython3",
   "version": "3.10.7"
  }
 },
 "nbformat": 4,
 "nbformat_minor": 5
}
