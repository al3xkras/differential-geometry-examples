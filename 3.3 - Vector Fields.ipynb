{
 "cells": [
  {
   "cell_type": "code",
   "execution_count": 71,
   "id": "db768844",
   "metadata": {},
   "outputs": [],
   "source": [
    "import sympy as sp\n",
    "from sympy import sin,cos\n",
    "import numpy as np\n",
    "from sympy import diff\n",
    "from IPython.display import display"
   ]
  },
  {
   "cell_type": "code",
   "execution_count": 2,
   "id": "afbefed5",
   "metadata": {},
   "outputs": [],
   "source": [
    "from commons import Surface,MethodOfOrthonormalFrames,StructureEquations,SurfaceCurve"
   ]
  },
  {
   "cell_type": "code",
   "execution_count": 3,
   "id": "bdadf71b",
   "metadata": {},
   "outputs": [],
   "source": [
    "u,v = sp.symbols(\"u,v\")\n",
    "du,dv=sp.symbols(\"du,dv\")\n",
    "duAdv= sp.symbols(\"duAdv\")"
   ]
  },
  {
   "cell_type": "code",
   "execution_count": 43,
   "id": "4c12c9a1",
   "metadata": {},
   "outputs": [],
   "source": [
    "def get_dual_base(surface:Surface):\n",
    "    #The first fundamental form ds^2 of the surface\n",
    "    #should be positive definite <=> (ds^2 is a Riemann metrics)\n",
    "    u=surface.u\n",
    "    v=surface.v\n",
    "    ort=MethodOfOrthonormalFrames(surface)\n",
    "    A=ort.calc_mat_A()\n",
    "    B=A.inv()\n",
    "    th1,th2=ort.calc_thetas()\n",
    "    # e1 = [a1,b1] = a1 * d/du + b1*d/dv\n",
    "    # e2 = [a2,b2] = a2 * d/du + b2*d/dv\n",
    "    return sp.Array([B[0,0],B[0,1]]).simplify(),sp.Array([B[1,0],B[1,1]]).simplify()\n",
    "\n",
    "class DifferentialOperator:\n",
    "    def __init__(self,u,v,l_u,l_v):\n",
    "        self.u,self.v=u,v\n",
    "        d_du,d_dv=sp.symbols(\"d_du,d_dv\")\n",
    "        self.l_u=l_u\n",
    "        self.l_v=l_v\n",
    "    \n",
    "    def to_array(self):\n",
    "        return sp.Array([self.l_u,self.l_v])\n",
    "    \n",
    "    def inner_product_dual_base(self,other):\n",
    "        assert isinstance(other,DifferentialOperator)\n",
    "        #self and other are expressed in the from of the dual base\n",
    "        # (e1,e2):\n",
    "        # self = l_u*e1+l_v*e2\n",
    "        # other = other.l_u*e1+other.l_v*e2\n",
    "        return self.l_u*other.l_u+self.l_v*other.l_v\n",
    "    \n",
    "    def length(self):\n",
    "        #self should be expressed in the from of the dual base\n",
    "        # (e1,e2):\n",
    "        # self = l_u*e1+l_v*e2\n",
    "        return sp.sqrt(self.inner_product_dual_base(self)).simplify()\n",
    "    \n",
    "    def one_form_product(self,one_form):\n",
    "        du,dv=one_form[:2]\n",
    "        form=one_form[2]\n",
    "        return self.l_u*form.subs(du,1).subs(dv,0) + \\\n",
    "                self.l_v*form.subs(du,0).subs(dv,1)\n",
    "\n",
    "\n",
    "class TangentVectorDiffOp(DifferentialOperator):\n",
    "    def __init__(self,u,v,vector):\n",
    "        self.u=u\n",
    "        self.v=v\n",
    "        self.u0,self.v0=vector[0]\n",
    "        u1,v1=vector[1]\n",
    "        self.l_u,self.l_v=u1-self.u0,v1-self.v0\n",
    "        super().__init__(u,v,self.l_u,self.l_v)\n",
    "    \n",
    "    def directional_derivative(self,fun):\n",
    "        return self.l_u*diff(fun,self.u)+self.l_v*diff(fun,self.v)\n",
    "    \n",
    "    def differentiate_along_curve(self,fun,curve):\n",
    "        t=curve[0]\n",
    "        u_t=curve[1] #u(t)\n",
    "        v_t=curve[2] #v(t)\n",
    "        dudt=diff(u_t,t)\n",
    "        dvdt=diff(v_t,t)\n",
    "        return (dudt*diff(fun,self.u)+dvdt*diff(fun,self.v)).subs(self.u,u_t).subs(self.v,v_t)\n",
    "    "
   ]
  },
  {
   "cell_type": "code",
   "execution_count": 44,
   "id": "2d32132a",
   "metadata": {},
   "outputs": [],
   "source": [
    "s=Surface(u,v,[\n",
    "    u,\n",
    "    v,\n",
    "    u**2+v**2\n",
    "])"
   ]
  },
  {
   "cell_type": "code",
   "execution_count": 45,
   "id": "b7875aa0",
   "metadata": {},
   "outputs": [
    {
     "data": {
      "text/latex": [
       "$\\displaystyle \\left[\\begin{matrix}\\frac{1}{\\sqrt{4 u^{2} + 1}} & 0\\end{matrix}\\right]$"
      ],
      "text/plain": [
       "[1/sqrt(4*u**2 + 1), 0]"
      ]
     },
     "metadata": {},
     "output_type": "display_data"
    },
    {
     "data": {
      "text/latex": [
       "$\\displaystyle \\left[\\begin{matrix}- \\frac{4 u v}{\\sqrt{\\frac{16 u^{4} + 16 u^{2} v^{2} + 8 u^{2} + 4 v^{2} + 1}{16 u^{4} + 8 u^{2} + 1}} \\cdot \\left(4 u^{2} + 1\\right)} & \\frac{1}{\\sqrt{\\frac{16 u^{4} + 16 u^{2} v^{2} + 8 u^{2} + 4 v^{2} + 1}{16 u^{4} + 8 u^{2} + 1}}}\\end{matrix}\\right]$"
      ],
      "text/plain": [
       "[-4*u*v/(sqrt((16*u**4 + 16*u**2*v**2 + 8*u**2 + 4*v**2 + 1)/(16*u**4 + 8*u**2 + 1))*(4*u**2 + 1)), 1/sqrt((16*u**4 + 16*u**2*v**2 + 8*u**2 + 4*v**2 + 1)/(16*u**4 + 8*u**2 + 1))]"
      ]
     },
     "metadata": {},
     "output_type": "display_data"
    }
   ],
   "source": [
    "e1,e2=get_dual_base(s)\n",
    "display(e1,e2)"
   ]
  },
  {
   "cell_type": "code",
   "execution_count": 46,
   "id": "164b74a8",
   "metadata": {},
   "outputs": [],
   "source": [
    "d1=DifferentialOperator(\n",
    "    u,\n",
    "    v,\n",
    "    2*u,3*v\n",
    ")"
   ]
  },
  {
   "cell_type": "code",
   "execution_count": 47,
   "id": "ddf16843",
   "metadata": {},
   "outputs": [
    {
     "data": {
      "text/latex": [
       "$\\displaystyle \\sqrt{4 u^{2} + 9 v^{2}}$"
      ],
      "text/plain": [
       "sqrt(4*u**2 + 9*v**2)"
      ]
     },
     "execution_count": 47,
     "metadata": {},
     "output_type": "execute_result"
    }
   ],
   "source": [
    "d1.length()"
   ]
  },
  {
   "cell_type": "code",
   "execution_count": 48,
   "id": "b47cd0a6",
   "metadata": {},
   "outputs": [],
   "source": [
    "d2=TangentVectorDiffOp(u,v,[\n",
    "    [0,v**2],\n",
    "    [2*u,-sin(v)]\n",
    "])"
   ]
  },
  {
   "cell_type": "code",
   "execution_count": 83,
   "id": "1f68ae1d",
   "metadata": {},
   "outputs": [
    {
     "name": "stdout",
     "output_type": "stream",
     "text": [
      "f\n"
     ]
    },
    {
     "data": {
      "text/latex": [
       "$\\displaystyle u^{2} + 7 v + 1$"
      ],
      "text/plain": [
       "u**2 + 7*v + 1"
      ]
     },
     "metadata": {},
     "output_type": "display_data"
    },
    {
     "name": "stdout",
     "output_type": "stream",
     "text": [
      "\n",
      "directional derivative\n"
     ]
    },
    {
     "data": {
      "text/latex": [
       "$\\displaystyle 4 u^{2} - 7 v^{2} - 7 \\sin{\\left(v \\right)}$"
      ],
      "text/plain": [
       "4*u**2 - 7*v**2 - 7*sin(v)"
      ]
     },
     "metadata": {},
     "output_type": "display_data"
    }
   ],
   "source": [
    "fun=d2.u**2+1+7*d2.v\n",
    "print(\"f\")\n",
    "display(fun)\n",
    "print(\"\\ndirectional derivative\")\n",
    "display(d2.directional_derivative(fun))"
   ]
  },
  {
   "cell_type": "code",
   "execution_count": 84,
   "id": "28bca950",
   "metadata": {},
   "outputs": [
    {
     "data": {
      "text/latex": [
       "$\\displaystyle 21 t^{2} + 2 \\cdot \\left(2 t + \\sin{\\left(t \\right)}\\right) \\left(t^{2} - \\cos{\\left(t \\right)}\\right) + 7 \\cos{\\left(t \\right)}$"
      ],
      "text/plain": [
       "21*t**2 + 2*(2*t + sin(t))*(t**2 - cos(t)) + 7*cos(t)"
      ]
     },
     "execution_count": 84,
     "metadata": {},
     "output_type": "execute_result"
    }
   ],
   "source": [
    "t=sp.symbols('t')\n",
    "d2.differentiate_along_curve(fun,[\n",
    "    t,\n",
    "    t**2-cos(t),\n",
    "    2+t**3+sin(t)\n",
    "])"
   ]
  },
  {
   "cell_type": "code",
   "execution_count": null,
   "id": "23d9d23f",
   "metadata": {},
   "outputs": [],
   "source": []
  }
 ],
 "metadata": {
  "kernelspec": {
   "display_name": "Python 3 (ipykernel)",
   "language": "python",
   "name": "python3"
  },
  "language_info": {
   "codemirror_mode": {
    "name": "ipython",
    "version": 3
   },
   "file_extension": ".py",
   "mimetype": "text/x-python",
   "name": "python",
   "nbconvert_exporter": "python",
   "pygments_lexer": "ipython3",
   "version": "3.10.7"
  }
 },
 "nbformat": 4,
 "nbformat_minor": 5
}
