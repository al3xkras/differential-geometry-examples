{
 "cells": [
  {
   "cell_type": "code",
   "execution_count": 1,
   "id": "db768844",
   "metadata": {},
   "outputs": [],
   "source": [
    "import sympy as sp\n",
    "import numpy as np\n",
    "from sympy import diff\n",
    "from IPython.display import display"
   ]
  },
  {
   "cell_type": "code",
   "execution_count": 2,
   "id": "afbefed5",
   "metadata": {},
   "outputs": [],
   "source": [
    "from commons import Surface,MethodOfOrthonormalFrames,StructureEquations,SurfaceCurve"
   ]
  },
  {
   "cell_type": "code",
   "execution_count": 3,
   "id": "bdadf71b",
   "metadata": {},
   "outputs": [],
   "source": [
    "u,v = sp.symbols(\"u,v\")\n",
    "du,dv=sp.symbols(\"du,dv\")\n",
    "duAdv= sp.symbols(\"duAdv\")"
   ]
  },
  {
   "cell_type": "code",
   "execution_count": null,
   "id": "4c12c9a1",
   "metadata": {},
   "outputs": [],
   "source": [
    "class VectorField:\n",
    "    def __init__(self,u,v):\n",
    "        # u,v <=> a domain D\n",
    "        self.u=u\n",
    "        self.v=v\n",
    "    \n",
    "    def differentiate_along_curve(func,curve):\n",
    "        s,u,v=curve[0]\n",
    "        "
   ]
  }
 ],
 "metadata": {
  "kernelspec": {
   "display_name": "Python 3 (ipykernel)",
   "language": "python",
   "name": "python3"
  },
  "language_info": {
   "codemirror_mode": {
    "name": "ipython",
    "version": 3
   },
   "file_extension": ".py",
   "mimetype": "text/x-python",
   "name": "python",
   "nbconvert_exporter": "python",
   "pygments_lexer": "ipython3",
   "version": "3.10.7"
  }
 },
 "nbformat": 4,
 "nbformat_minor": 5
}
