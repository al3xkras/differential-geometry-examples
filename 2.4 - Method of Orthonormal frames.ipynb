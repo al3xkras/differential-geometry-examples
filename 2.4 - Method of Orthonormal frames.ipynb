{
 "cells": [
  {
   "cell_type": "code",
   "execution_count": 1,
   "id": "378c9d49",
   "metadata": {},
   "outputs": [],
   "source": [
    "import sympy as sp\n",
    "import numpy as np\n",
    "from sympy import diff\n",
    "from commons import Surface"
   ]
  },
  {
   "cell_type": "code",
   "execution_count": 2,
   "id": "dd109ecc",
   "metadata": {},
   "outputs": [
    {
     "data": {
      "text/plain": [
       "6"
      ]
     },
     "execution_count": 2,
     "metadata": {},
     "output_type": "execute_result"
    }
   ],
   "source": [
    "np.dot([1,1,1],[2,2,2])"
   ]
  },
  {
   "cell_type": "code",
   "execution_count": 3,
   "id": "7cdc1fc5",
   "metadata": {},
   "outputs": [
    {
     "data": {
      "text/plain": [
       "array([-3,  6, -3])"
      ]
     },
     "execution_count": 3,
     "metadata": {},
     "output_type": "execute_result"
    }
   ],
   "source": [
    "np.cross([1,2,3],[4,5,6])"
   ]
  },
  {
   "cell_type": "code",
   "execution_count": 4,
   "id": "e9b256ab",
   "metadata": {},
   "outputs": [],
   "source": [
    "u,v=sp.symbols(\"u,v\")"
   ]
  },
  {
   "cell_type": "code",
   "execution_count": 5,
   "id": "bd2b0b04",
   "metadata": {},
   "outputs": [],
   "source": [
    "s1 = Surface(u,v,[\n",
    "    (2+sp.cos(u))*sp.cos(v),\n",
    "    (2+sp.cos(u))*sp.sin(v),\n",
    "    sp.sin(u)\n",
    "])"
   ]
  },
  {
   "cell_type": "code",
   "execution_count": 6,
   "id": "cbc093a0",
   "metadata": {},
   "outputs": [
    {
     "data": {
      "text/latex": [
       "$\\displaystyle \\frac{\\cos{\\left(u \\right)}}{\\cos{\\left(u \\right)} + 2}$"
      ],
      "text/plain": [
       "cos(u)/(cos(u) + 2)"
      ]
     },
     "execution_count": 6,
     "metadata": {},
     "output_type": "execute_result"
    }
   ],
   "source": [
    "s1.K"
   ]
  },
  {
   "cell_type": "code",
   "execution_count": 7,
   "id": "aa2ab267",
   "metadata": {},
   "outputs": [],
   "source": [
    "from commons import MethodOfOrthonormalFrames"
   ]
  },
  {
   "cell_type": "code",
   "execution_count": 8,
   "id": "a851ee2a",
   "metadata": {},
   "outputs": [],
   "source": [
    "m = MethodOfOrthonormalFrames(s1)"
   ]
  },
  {
   "cell_type": "code",
   "execution_count": 9,
   "id": "08aa1613",
   "metadata": {},
   "outputs": [
    {
     "data": {
      "text/latex": [
       "$\\displaystyle \\left[\\begin{matrix}1 & 0\\\\0 & \\sqrt{\\left(\\cos{\\left(u \\right)} + 2\\right)^{2}}\\end{matrix}\\right]$"
      ],
      "text/plain": [
       "Matrix([\n",
       "[1,                     0],\n",
       "[0, sqrt((cos(u) + 2)**2)]])"
      ]
     },
     "execution_count": 9,
     "metadata": {},
     "output_type": "execute_result"
    }
   ],
   "source": [
    "A=m.calc_mat_A()\n",
    "A"
   ]
  },
  {
   "cell_type": "code",
   "execution_count": 10,
   "id": "ba2840d6",
   "metadata": {},
   "outputs": [],
   "source": [
    "WA,WB=m.calc_mat_W()"
   ]
  },
  {
   "cell_type": "code",
   "execution_count": 11,
   "id": "7b4a47df",
   "metadata": {
    "scrolled": false
   },
   "outputs": [
    {
     "data": {
      "text/latex": [
       "$\\displaystyle \\left[\\begin{matrix}\\frac{\\cos{\\left(u \\right)}}{\\sqrt{\\cos^{2}{\\left(u \\right)} + 4 \\cos{\\left(u \\right)} + 4}} + \\frac{2}{\\sqrt{\\cos^{2}{\\left(u \\right)} + 4 \\cos{\\left(u \\right)} + 4}} & 0\\\\0 & \\frac{\\cos{\\left(u \\right)}}{\\sqrt{\\cos^{2}{\\left(u \\right)} + 4 \\cos{\\left(u \\right)} + 4}}\\end{matrix}\\right]$"
      ],
      "text/plain": [
       "Matrix([\n",
       "[cos(u)/sqrt(cos(u)**2 + 4*cos(u) + 4) + 2/sqrt(cos(u)**2 + 4*cos(u) + 4),                                     0],\n",
       "[                                                                       0, cos(u)/sqrt(cos(u)**2 + 4*cos(u) + 4)]])"
      ]
     },
     "execution_count": 11,
     "metadata": {},
     "output_type": "execute_result"
    }
   ],
   "source": [
    "B = m.calc_mat_B()\n",
    "B"
   ]
  },
  {
   "cell_type": "code",
   "execution_count": 12,
   "id": "08be784f",
   "metadata": {},
   "outputs": [
    {
     "data": {
      "text/latex": [
       "$\\displaystyle \\left[\\begin{matrix}\\frac{\\cos{\\left(u \\right)} + 2}{\\sqrt{\\left(\\cos{\\left(u \\right)} + 2\\right)^{2}}} & 0\\\\0 & \\sqrt{\\left(\\cos{\\left(u \\right)} + 2\\right)^{2}} \\cos{\\left(u \\right)}\\end{matrix}\\right]$"
      ],
      "text/plain": [
       "Matrix([\n",
       "[(cos(u) + 2)/sqrt((cos(u) + 2)**2),                            0],\n",
       "[                                 0, sqrt((cos(u) + 2)**2)*cos(u)]])"
      ]
     },
     "execution_count": 12,
     "metadata": {},
     "output_type": "execute_result"
    }
   ],
   "source": [
    "S1=A.transpose()*B*A\n",
    "S1.simplify()\n",
    "S1"
   ]
  },
  {
   "cell_type": "code",
   "execution_count": 13,
   "id": "0e13882c",
   "metadata": {},
   "outputs": [
    {
     "data": {
      "text/latex": [
       "$\\displaystyle \\left[\\begin{matrix}\\frac{\\cos{\\left(u \\right)} + 2}{\\sqrt{\\left(\\cos{\\left(u \\right)} + 2\\right)^{2}}} & 0\\\\0 & \\sqrt{\\left(\\cos{\\left(u \\right)} + 2\\right)^{2}} \\cos{\\left(u \\right)}\\end{matrix}\\right]$"
      ],
      "text/plain": [
       "Matrix([\n",
       "[(cos(u) + 2)/sqrt((cos(u) + 2)**2),                            0],\n",
       "[                                 0, sqrt((cos(u) + 2)**2)*cos(u)]])"
      ]
     },
     "execution_count": 13,
     "metadata": {},
     "output_type": "execute_result"
    }
   ],
   "source": [
    "L,M,N=s1.L,s1.M,s1.N\n",
    "S = sp.Matrix([\n",
    "    [L,M],\n",
    "    [M,N]\n",
    "])\n",
    "S.simplify()\n",
    "S"
   ]
  },
  {
   "cell_type": "code",
   "execution_count": 14,
   "id": "6bcd6ceb",
   "metadata": {},
   "outputs": [
    {
     "data": {
      "text/latex": [
       "$\\displaystyle \\frac{\\cos{\\left(u \\right)}}{\\cos{\\left(u \\right)} + 2}$"
      ],
      "text/plain": [
       "cos(u)/(cos(u) + 2)"
      ]
     },
     "execution_count": 14,
     "metadata": {},
     "output_type": "execute_result"
    }
   ],
   "source": [
    "B.det()"
   ]
  },
  {
   "cell_type": "code",
   "execution_count": 15,
   "id": "8445996d",
   "metadata": {},
   "outputs": [
    {
     "data": {
      "text/latex": [
       "$\\displaystyle \\frac{\\cos{\\left(u \\right)} + 1}{\\sqrt{\\left(\\cos{\\left(u \\right)} + 2\\right)^{2}}}$"
      ],
      "text/plain": [
       "(cos(u) + 1)/sqrt((cos(u) + 2)**2)"
      ]
     },
     "execution_count": 15,
     "metadata": {},
     "output_type": "execute_result"
    }
   ],
   "source": [
    "B.trace().simplify()/2"
   ]
  },
  {
   "cell_type": "code",
   "execution_count": 16,
   "id": "225165c3",
   "metadata": {},
   "outputs": [
    {
     "data": {
      "text/latex": [
       "$\\displaystyle \\frac{\\cos{\\left(u \\right)}}{\\cos{\\left(u \\right)} + 2}$"
      ],
      "text/plain": [
       "cos(u)/(cos(u) + 2)"
      ]
     },
     "execution_count": 16,
     "metadata": {},
     "output_type": "execute_result"
    }
   ],
   "source": [
    "s1.K"
   ]
  },
  {
   "cell_type": "code",
   "execution_count": 17,
   "id": "be6f7ccd",
   "metadata": {},
   "outputs": [
    {
     "data": {
      "text/latex": [
       "$\\displaystyle \\frac{\\cos{\\left(u \\right)} + 1}{\\sqrt{\\left(\\cos{\\left(u \\right)} + 2\\right)^{2}}}$"
      ],
      "text/plain": [
       "(cos(u) + 1)/sqrt((cos(u) + 2)**2)"
      ]
     },
     "execution_count": 17,
     "metadata": {},
     "output_type": "execute_result"
    }
   ],
   "source": [
    "s1.H"
   ]
  },
  {
   "cell_type": "code",
   "execution_count": null,
   "id": "cffc4ba5",
   "metadata": {},
   "outputs": [],
   "source": []
  }
 ],
 "metadata": {
  "kernelspec": {
   "display_name": "Python 3 (ipykernel)",
   "language": "python",
   "name": "python3"
  },
  "language_info": {
   "codemirror_mode": {
    "name": "ipython",
    "version": 3
   },
   "file_extension": ".py",
   "mimetype": "text/x-python",
   "name": "python",
   "nbconvert_exporter": "python",
   "pygments_lexer": "ipython3",
   "version": "3.10.7"
  }
 },
 "nbformat": 4,
 "nbformat_minor": 5
}
