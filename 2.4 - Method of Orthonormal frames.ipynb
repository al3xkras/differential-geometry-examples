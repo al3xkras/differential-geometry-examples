{
 "cells": [
  {
   "cell_type": "code",
   "execution_count": 1,
   "id": "378c9d49",
   "metadata": {},
   "outputs": [],
   "source": [
    "import sympy as sp\n",
    "import numpy as np\n",
    "from sympy import diff"
   ]
  },
  {
   "cell_type": "code",
   "execution_count": 2,
   "id": "dd109ecc",
   "metadata": {},
   "outputs": [
    {
     "data": {
      "text/plain": [
       "6"
      ]
     },
     "execution_count": 2,
     "metadata": {},
     "output_type": "execute_result"
    }
   ],
   "source": [
    "np.dot([1,1,1],[2,2,2])"
   ]
  },
  {
   "cell_type": "code",
   "execution_count": 3,
   "id": "7cdc1fc5",
   "metadata": {},
   "outputs": [
    {
     "data": {
      "text/plain": [
       "array([-3,  6, -3])"
      ]
     },
     "execution_count": 3,
     "metadata": {},
     "output_type": "execute_result"
    }
   ],
   "source": [
    "np.cross([1,2,3],[4,5,6])"
   ]
  },
  {
   "cell_type": "code",
   "execution_count": 4,
   "id": "e9b256ab",
   "metadata": {},
   "outputs": [],
   "source": [
    "u,v=sp.symbols(\"u,v\")\n",
    "\n",
    "class Surface:\n",
    "    def __init__(self,u,v,p:tuple):\n",
    "        self.u=u\n",
    "        self.v=v\n",
    "        self.p=p\n",
    "        \n",
    "        self.p_u=[diff(x,self.u) for x in self.p]\n",
    "        self.p_v=[diff(x,self.v) for x in self.p]\n",
    "        \n",
    "        self.p_uu=[diff(x,self.u) for x in self.p_u]\n",
    "        self.p_uv=[diff(x,self.v) for x in self.p_u]\n",
    "        self.p_vv=[diff(x,self.v) for x in self.p_v]\n",
    "        \n",
    "        E=np.dot(self.p_u,self.p_u)\n",
    "        F=np.dot(self.p_u,self.p_v)\n",
    "        G=np.dot(self.p_v,self.p_v)\n",
    "        self.E=E\n",
    "        self.F=F\n",
    "        self.G=G\n",
    "        \n",
    "        e=np.cross(self.p_u,self.p_v)\n",
    "        e_mod=sp.sqrt(np.dot(e,e))\n",
    "        self.e=[(x/e_mod).simplify() for x in e]\n",
    "        \n",
    "        L=np.dot(self.p_uu,self.e)\n",
    "        M=np.dot(self.p_uv,self.e)\n",
    "        N=np.dot(self.p_vv,self.e)\n",
    "        self.L=L\n",
    "        self.M=M\n",
    "        self.N=N\n",
    "        self.K = (L*N-M**2)/(E*G-F**2)\n",
    "        self.H = (E*N+G*L-2*F*M)/(2*E*G-2*F**2)\n",
    "        self.K=self.K.simplify()\n",
    "        self.H=self.H.simplify()\n",
    "        \n",
    "    def val(self,u,v):\n",
    "        return tuple(x.subs(self.u,u).subs(self.v,v).evalf() for x in self.p)\n",
    "\n",
    "    def e_val(self,u,v):\n",
    "        return tuple(x.subs(self.u,u).subs(self.v,v).evalf() for x in self.e)\n",
    "        "
   ]
  },
  {
   "cell_type": "code",
   "execution_count": 177,
   "id": "bd2b0b04",
   "metadata": {},
   "outputs": [],
   "source": [
    "s1 = Surface(u,v,[\n",
    "    (2+sp.cos(u))*sp.cos(v),\n",
    "    (2+sp.cos(u))*sp.sin(v),\n",
    "    sp.sin(u)\n",
    "])"
   ]
  },
  {
   "cell_type": "code",
   "execution_count": 178,
   "id": "cbc093a0",
   "metadata": {},
   "outputs": [
    {
     "data": {
      "text/latex": [
       "$\\displaystyle \\frac{\\cos{\\left(u \\right)}}{\\cos{\\left(u \\right)} + 2}$"
      ],
      "text/plain": [
       "cos(u)/(cos(u) + 2)"
      ]
     },
     "execution_count": 178,
     "metadata": {},
     "output_type": "execute_result"
    }
   ],
   "source": [
    "s1.K"
   ]
  },
  {
   "cell_type": "code",
   "execution_count": 235,
   "id": "aa2ab267",
   "metadata": {},
   "outputs": [],
   "source": [
    "class MethodOfOrthonormalFrames:\n",
    "    def __init__(self,surface:Surface):\n",
    "        self.surface=surface\n",
    "        p_u=self.surface.p_u\n",
    "        p_v=self.surface.p_v\n",
    "        p_u_mod=sp.sqrt(np.dot(p_u,p_u))\n",
    "        self.e1=[x/p_u_mod for x in p_u]\n",
    "        _0 = np.dot(p_v,self.e1)\n",
    "        _1 = [_0*x for x in self.e1]\n",
    "        e2=[p_v[i]-_1[i] for i in range(len(p_v))]\n",
    "        e2_mod=sp.sqrt(np.dot(e2,e2)).simplify()\n",
    "        self.e2=[x/e2_mod for x in e2]\n",
    "        self.e3=np.cross(self.e1,self.e2)\n",
    "        self.du,self.dv=sp.symbols(\"du,dv\")\n",
    "    \n",
    "    def calc_mat_A(self):\n",
    "        a11,a12,a21,a22=sp.symbols(\"a11,a12,a21,a22\")\n",
    "        r1=sp.linsolve([\n",
    "            a11*self.e1[0]+a12*self.e2[0]-self.surface.p_u[0],\n",
    "            a11*self.e1[1]+a12*self.e2[1]-self.surface.p_u[1],\n",
    "            a11*self.e1[2]+a12*self.e2[2]-self.surface.p_u[2]\n",
    "        ],(a11,a12))\n",
    "        r2=sp.linsolve([\n",
    "            a21*self.e1[0]+a22*self.e2[0]-self.surface.p_v[0],\n",
    "            a21*self.e1[1]+a22*self.e2[1]-self.surface.p_v[1],\n",
    "            a21*self.e1[2]+a22*self.e2[2]-self.surface.p_v[2]\n",
    "        ],(a21,a22))\n",
    "        return sp.Matrix([\n",
    "            [r1.args[0][0].simplify(),r1.args[0][1].simplify()],\n",
    "            [r2.args[0][0].simplify(),r2.args[0][1].simplify()]\n",
    "        ])\n",
    "    \n",
    "    def calc_mat_W(self):\n",
    "        a11,a12,a13,a21,a22,a23,a31,a32,a33=sp.symbols(\"a11,a12,a13,a21,a22,a23,a31,a32,a33\")\n",
    "        b11,b12,b13,b21,b22,b23,b31,b32,b33=sp.symbols(\"b11,b12,b13,b21,b22,b23,b31,b32,b33\")\n",
    "        alpha=[\n",
    "            [ a11, a12, a13],\n",
    "            [ a21, a22, a23],\n",
    "            [ a31, a32, a33]\n",
    "        ]\n",
    "        beta=[\n",
    "            [ b11, b12, b13],\n",
    "            [ b21, b22, b23],\n",
    "            [ b31, b32, b33]\n",
    "        ]\n",
    "        eq=[self.mat_w_eq(i,alpha,beta) for i in range(9)]\n",
    "        sols_alpha=sp.linsolve([x[0] for x in eq],(a11,a12,a13,a21,a22,a23,a31,a32,a33))\n",
    "        sols_beta=sp.linsolve([x[1] for x in eq],(b11,b12,b13,b21,b22,b23,b31,b32,b33))\n",
    "        a,b = sols_alpha.args[0],sols_beta.args[0]\n",
    "        a=[x.simplify() for x in a]\n",
    "        b=[x.simplify() for x in b]\n",
    "        mat_a = [\n",
    "            [a[0],a[1],a[2]],\n",
    "            [a[3],a[4],a[5]],\n",
    "            [a[6],a[7],a[8]]\n",
    "        ]\n",
    "        mat_b = [\n",
    "            [b[0],b[1],b[2]],\n",
    "            [b[3],b[4],b[5]],\n",
    "            [b[6],b[7],b[8]]\n",
    "        ]\n",
    "        return sp.Matrix(mat_a),sp.Matrix(mat_b)\n",
    "        \n",
    "    def mat_w_eq(self,eq_num,alpha,beta):\n",
    "        e1,e2,e3=self.e1,self.e2,self.e3\n",
    "        \"\"\"e1,e2,e3=[\n",
    "            sp.symbols(\"x1,y1,z1\"),\n",
    "            sp.symbols(\"x2,y2,z2\"),\n",
    "            sp.symbols(\"x3,y3,z3\")\n",
    "        ]\"\"\"\n",
    "        \n",
    "        u,v=self.surface.u,self.surface.v\n",
    "        vectors=[e1,e2,e3]\n",
    "        vec_num=eq_num//3\n",
    "        coord_num=eq_num%3\n",
    "        \n",
    "        vec=vectors[vec_num]\n",
    "        dxdu=sp.diff(vec[coord_num],u)\n",
    "        dxdv=sp.diff(vec[coord_num],v)\n",
    "\n",
    "        eq1 = -dxdu-vectors[0][coord_num]*alpha[0][vec_num]\\\n",
    "            -vectors[1][coord_num]*alpha[1][vec_num]\\\n",
    "            -vectors[2][coord_num]*alpha[2][vec_num]\n",
    "        \n",
    "        eq2 = -dxdv-vectors[0][coord_num]*beta[0][vec_num]\\\n",
    "            -vectors[1][coord_num]*beta[1][vec_num]\\\n",
    "            -vectors[2][coord_num]*beta[2][vec_num]\n",
    "        \n",
    "        \n",
    "        return eq1,eq2\n",
    "    \n",
    "    def calc_thetas(self):\n",
    "        A = self.calc_mat_A()\n",
    "        du,dv=self.du,self.dv\n",
    "        return [A[0][0]*du+A[0][1]*dv,A[1][0]*du+A[1][1]*dv]\n",
    "    \n",
    "    def calc_mat_B(self):\n",
    "        A = self.calc_mat_A()\n",
    "        WA,WB = self.calc_mat_W()\n",
    "        b11,b12,b21,b22=sp.symbols(\"b11,b12,b21,b22\")\n",
    "        sol=sp.linsolve([\n",
    "            -WA[0,2]+A[0,0]*b11+A[1,0]*b12,\n",
    "            -WA[1,2]+A[0,0]*b21+A[1,0]*b22,\n",
    "            -WB[0,2]+A[0,1]*b11+A[1,1]*b12,\n",
    "            -WB[1,2]+A[0,1]*b21+A[1,1]*b22\n",
    "        ],(b11,b12,b21,b22))\n",
    "        b=sol.args[0]\n",
    "        return sp.Matrix([\n",
    "            [b[0],b[1]],\n",
    "            [b[2],b[3]]\n",
    "        ])\n",
    "    "
   ]
  },
  {
   "cell_type": "code",
   "execution_count": 236,
   "id": "a0475163",
   "metadata": {},
   "outputs": [],
   "source": [
    "m = MethodOfOrthonormalFrames(s1)"
   ]
  },
  {
   "cell_type": "code",
   "execution_count": 237,
   "id": "f665904f",
   "metadata": {},
   "outputs": [
    {
     "data": {
      "text/latex": [
       "$\\displaystyle \\left[\\begin{matrix}1 & 0\\\\0 & \\sqrt{\\left(\\cos{\\left(u \\right)} + 2\\right)^{2}}\\end{matrix}\\right]$"
      ],
      "text/plain": [
       "Matrix([\n",
       "[1,                     0],\n",
       "[0, sqrt((cos(u) + 2)**2)]])"
      ]
     },
     "execution_count": 237,
     "metadata": {},
     "output_type": "execute_result"
    }
   ],
   "source": [
    "A=m.calc_mat_A()\n",
    "A"
   ]
  },
  {
   "cell_type": "code",
   "execution_count": 238,
   "id": "9c39318f",
   "metadata": {},
   "outputs": [],
   "source": [
    "WA,WB=m.calc_mat_W()"
   ]
  },
  {
   "cell_type": "code",
   "execution_count": 239,
   "id": "65f1fd89",
   "metadata": {
    "scrolled": false
   },
   "outputs": [
    {
     "data": {
      "text/latex": [
       "$\\displaystyle \\left[\\begin{matrix}\\frac{\\cos{\\left(u \\right)}}{\\sqrt{\\cos^{2}{\\left(u \\right)} + 4 \\cos{\\left(u \\right)} + 4}} + \\frac{2}{\\sqrt{\\cos^{2}{\\left(u \\right)} + 4 \\cos{\\left(u \\right)} + 4}} & 0\\\\0 & \\frac{\\cos{\\left(u \\right)}}{\\sqrt{\\cos^{2}{\\left(u \\right)} + 4 \\cos{\\left(u \\right)} + 4}}\\end{matrix}\\right]$"
      ],
      "text/plain": [
       "Matrix([\n",
       "[cos(u)/sqrt(cos(u)**2 + 4*cos(u) + 4) + 2/sqrt(cos(u)**2 + 4*cos(u) + 4),                                     0],\n",
       "[                                                                       0, cos(u)/sqrt(cos(u)**2 + 4*cos(u) + 4)]])"
      ]
     },
     "execution_count": 239,
     "metadata": {},
     "output_type": "execute_result"
    }
   ],
   "source": [
    "B = m.calc_mat_B()\n",
    "B"
   ]
  },
  {
   "cell_type": "code",
   "execution_count": 240,
   "id": "eef73f92",
   "metadata": {},
   "outputs": [
    {
     "data": {
      "text/latex": [
       "$\\displaystyle \\left[\\begin{matrix}\\frac{\\cos{\\left(u \\right)} + 2}{\\sqrt{\\left(\\cos{\\left(u \\right)} + 2\\right)^{2}}} & 0\\\\0 & \\sqrt{\\left(\\cos{\\left(u \\right)} + 2\\right)^{2}} \\cos{\\left(u \\right)}\\end{matrix}\\right]$"
      ],
      "text/plain": [
       "Matrix([\n",
       "[(cos(u) + 2)/sqrt((cos(u) + 2)**2),                            0],\n",
       "[                                 0, sqrt((cos(u) + 2)**2)*cos(u)]])"
      ]
     },
     "execution_count": 240,
     "metadata": {},
     "output_type": "execute_result"
    }
   ],
   "source": [
    "S1=A.transpose()*B*A\n",
    "S1.simplify()\n",
    "S1"
   ]
  },
  {
   "cell_type": "code",
   "execution_count": 241,
   "id": "a9217fe0",
   "metadata": {},
   "outputs": [
    {
     "data": {
      "text/latex": [
       "$\\displaystyle \\left[\\begin{matrix}\\frac{\\cos{\\left(u \\right)} + 2}{\\sqrt{\\left(\\cos{\\left(u \\right)} + 2\\right)^{2}}} & 0\\\\0 & \\sqrt{\\left(\\cos{\\left(u \\right)} + 2\\right)^{2}} \\cos{\\left(u \\right)}\\end{matrix}\\right]$"
      ],
      "text/plain": [
       "Matrix([\n",
       "[(cos(u) + 2)/sqrt((cos(u) + 2)**2),                            0],\n",
       "[                                 0, sqrt((cos(u) + 2)**2)*cos(u)]])"
      ]
     },
     "execution_count": 241,
     "metadata": {},
     "output_type": "execute_result"
    }
   ],
   "source": [
    "L,M,N=s1.L,s1.M,s1.N\n",
    "S = sp.Matrix([\n",
    "    [L,M],\n",
    "    [M,N]\n",
    "])\n",
    "S.simplify()\n",
    "S"
   ]
  },
  {
   "cell_type": "code",
   "execution_count": null,
   "id": "4f5879e7",
   "metadata": {},
   "outputs": [],
   "source": []
  }
 ],
 "metadata": {
  "kernelspec": {
   "display_name": "Python 3 (ipykernel)",
   "language": "python",
   "name": "python3"
  },
  "language_info": {
   "codemirror_mode": {
    "name": "ipython",
    "version": 3
   },
   "file_extension": ".py",
   "mimetype": "text/x-python",
   "name": "python",
   "nbconvert_exporter": "python",
   "pygments_lexer": "ipython3",
   "version": "3.10.7"
  }
 },
 "nbformat": 4,
 "nbformat_minor": 5
}
