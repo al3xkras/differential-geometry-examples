{
 "cells": [
  {
   "cell_type": "code",
   "execution_count": 1,
   "id": "8cc80619",
   "metadata": {},
   "outputs": [],
   "source": [
    "import sympy as sp\n",
    "import numpy as np\n",
    "from sympy import diff\n",
    "from IPython.display import display"
   ]
  },
  {
   "cell_type": "code",
   "execution_count": 2,
   "id": "41bb1adc",
   "metadata": {},
   "outputs": [],
   "source": [
    "from commons import Surface,MethodOfOrthonormalFrames,StructureEquations"
   ]
  },
  {
   "cell_type": "code",
   "execution_count": 3,
   "id": "7676afe5",
   "metadata": {},
   "outputs": [],
   "source": [
    "u,v = sp.symbols(\"u,v\")\n",
    "du,dv=sp.symbols(\"du,dv\")"
   ]
  },
  {
   "cell_type": "code",
   "execution_count": 4,
   "id": "8b2bc687",
   "metadata": {},
   "outputs": [],
   "source": [
    "catenoid = Surface(u,v,[\n",
    "    sp.sqrt(u**2+1)*sp.sin(v),\n",
    "    sp.sqrt(u**2+1)*sp.cos(v),\n",
    "    sp.asinh(u)\n",
    "])"
   ]
  },
  {
   "cell_type": "code",
   "execution_count": 5,
   "id": "b44b50e8",
   "metadata": {},
   "outputs": [],
   "source": [
    "c=MethodOfOrthonormalFrames(catenoid)"
   ]
  },
  {
   "cell_type": "code",
   "execution_count": 6,
   "id": "f86dc9b4",
   "metadata": {},
   "outputs": [
    {
     "data": {
      "text/latex": [
       "$\\displaystyle du$"
      ],
      "text/plain": [
       "du"
      ]
     },
     "metadata": {},
     "output_type": "display_data"
    },
    {
     "data": {
      "text/latex": [
       "$\\displaystyle dv \\sqrt{u^{2} + 1}$"
      ],
      "text/plain": [
       "dv*sqrt(u**2 + 1)"
      ]
     },
     "metadata": {},
     "output_type": "display_data"
    }
   ],
   "source": [
    "theta1,theta2=c.calc_thetas()\n",
    "display(theta1,theta2)"
   ]
  },
  {
   "cell_type": "code",
   "execution_count": 7,
   "id": "48095f8e",
   "metadata": {},
   "outputs": [
    {
     "data": {
      "text/latex": [
       "$\\displaystyle du^{2} + dv^{2} u^{2} + dv^{2}$"
      ],
      "text/plain": [
       "du**2 + dv**2*u**2 + dv**2"
      ]
     },
     "metadata": {},
     "output_type": "display_data"
    },
    {
     "data": {
      "text/latex": [
       "$\\displaystyle du^{2} + dv^{2} \\left(u^{2} + 1\\right)$"
      ],
      "text/plain": [
       "du**2 + dv**2*(u**2 + 1)"
      ]
     },
     "metadata": {},
     "output_type": "display_data"
    }
   ],
   "source": [
    "display(catenoid.I(du,dv))\n",
    "display((theta1*theta1+theta2*theta2).simplify())"
   ]
  },
  {
   "cell_type": "code",
   "execution_count": 8,
   "id": "af647783",
   "metadata": {},
   "outputs": [],
   "source": [
    "st=StructureEquations(catenoid)"
   ]
  },
  {
   "cell_type": "code",
   "execution_count": 9,
   "id": "65b56c11",
   "metadata": {},
   "outputs": [
    {
     "data": {
      "text/latex": [
       "$\\displaystyle - \\frac{duAdv u}{\\sqrt{u^{2} + 1}}$"
      ],
      "text/plain": [
       "-duAdv*u/sqrt(u**2 + 1)"
      ]
     },
     "execution_count": 9,
     "metadata": {},
     "output_type": "execute_result"
    }
   ],
   "source": [
    "st.d_theta(1)"
   ]
  },
  {
   "cell_type": "code",
   "execution_count": 10,
   "id": "41d3ff84",
   "metadata": {},
   "outputs": [
    {
     "data": {
      "text/latex": [
       "$\\displaystyle - \\frac{duAdv}{\\left(u^{2} + 1\\right)^{\\frac{3}{2}}}$"
      ],
      "text/plain": [
       "-duAdv/(u**2 + 1)**(3/2)"
      ]
     },
     "execution_count": 10,
     "metadata": {},
     "output_type": "execute_result"
    }
   ],
   "source": [
    "st.d_w21()"
   ]
  },
  {
   "cell_type": "code",
   "execution_count": 11,
   "id": "755ff25e",
   "metadata": {},
   "outputs": [],
   "source": [
    "B=st.ort.calc_mat_B()\n",
    "theta1,theta2=st.ort.calc_thetas()"
   ]
  },
  {
   "cell_type": "code",
   "execution_count": 12,
   "id": "ce41f92f",
   "metadata": {},
   "outputs": [
    {
     "data": {
      "text/latex": [
       "$\\displaystyle \\frac{du^{2} - dv^{2} \\left(u^{2} + 1\\right)}{u^{2} + 1}$"
      ],
      "text/plain": [
       "(du**2 - dv**2*(u**2 + 1))/(u**2 + 1)"
      ]
     },
     "metadata": {},
     "output_type": "display_data"
    },
    {
     "data": {
      "text/latex": [
       "$\\displaystyle \\frac{du^{2} - dv^{2} u^{2} - dv^{2}}{u^{2} + 1}$"
      ],
      "text/plain": [
       "(du**2 - dv**2*u**2 - dv**2)/(u**2 + 1)"
      ]
     },
     "metadata": {},
     "output_type": "display_data"
    }
   ],
   "source": [
    "expectedII = (B[0,0]*theta1*theta1+2*B[0,1]*theta1*theta2+B[1,1]*theta2*theta2).simplify()\n",
    "display(expectedII)\n",
    "display(st.surface.II(du,dv).simplify())"
   ]
  },
  {
   "cell_type": "code",
   "execution_count": 13,
   "id": "9623fb1f",
   "metadata": {},
   "outputs": [],
   "source": [
    "\"\"\"\n",
    "Problem 2.6.2 Define parameters (u, v) for a torus as in Example 2.1.7, \n",
    "Let e1 be the unit tangent vector of the curve with parameter u and fixed v, \n",
    "and e2 the unit tangent vector of the curve with parameter v and fixed u. \n",
    "\n",
    "Calculate e3, θ1, θ2, ω_ji, K, and b_ij\n",
    "\"\"\"\n",
    "\n",
    "#Thorus:\n",
    "#x = (R + r cos u) cos v, y = (R + r cos u)sin v, z = r sin u.\n",
    "\n",
    "R,r=sp.symbols(\"R,r\")\n",
    "thorus=Surface(u,v,[\n",
    "    (R+r*sp.cos(u))*sp.cos(v),\n",
    "    (R+r*sp.cos(u))*sp.sin(v),\n",
    "    r*sp.sin(u)\n",
    "])\n",
    "t=MethodOfOrthonormalFrames(thorus)"
   ]
  },
  {
   "cell_type": "code",
   "execution_count": 14,
   "id": "0802dd8c",
   "metadata": {},
   "outputs": [
    {
     "name": "stdout",
     "output_type": "stream",
     "text": [
      "e3\n"
     ]
    },
    {
     "data": {
      "text/latex": [
       "$\\displaystyle \\left[\\begin{matrix}- \\frac{r \\left(R + r \\cos{\\left(u \\right)}\\right) \\cos{\\left(u \\right)} \\cos{\\left(v \\right)}}{\\sqrt{r^{2}} \\sqrt{\\left(R + r \\cos{\\left(u \\right)}\\right)^{2}}} & - \\frac{r \\left(R + r \\cos{\\left(u \\right)}\\right) \\sin{\\left(v \\right)} \\cos{\\left(u \\right)}}{\\sqrt{r^{2}} \\sqrt{\\left(R + r \\cos{\\left(u \\right)}\\right)^{2}}} & - \\frac{r \\left(R + r \\cos{\\left(u \\right)}\\right) \\sin{\\left(u \\right)}}{\\sqrt{r^{2}} \\sqrt{\\left(R + r \\cos{\\left(u \\right)}\\right)^{2}}}\\end{matrix}\\right]$"
      ],
      "text/plain": [
       "[-r*(R + r*cos(u))*cos(u)*cos(v)/(sqrt(r**2)*sqrt((R + r*cos(u))**2)), -r*(R + r*cos(u))*sin(v)*cos(u)/(sqrt(r**2)*sqrt((R + r*cos(u))**2)), -r*(R + r*cos(u))*sin(u)/(sqrt(r**2)*sqrt((R + r*cos(u))**2))]"
      ]
     },
     "metadata": {},
     "output_type": "display_data"
    }
   ],
   "source": [
    "print(\"e3\")\n",
    "display(sp.Array(t.e3).simplify())"
   ]
  },
  {
   "cell_type": "code",
   "execution_count": 15,
   "id": "9ec98f6c",
   "metadata": {},
   "outputs": [
    {
     "name": "stdout",
     "output_type": "stream",
     "text": [
      "\n",
      "\n",
      "theta1\n"
     ]
    },
    {
     "data": {
      "text/latex": [
       "$\\displaystyle du \\sqrt{r^{2}}$"
      ],
      "text/plain": [
       "du*sqrt(r**2)"
      ]
     },
     "metadata": {},
     "output_type": "display_data"
    },
    {
     "name": "stdout",
     "output_type": "stream",
     "text": [
      "\n",
      "\n",
      "theta2\n"
     ]
    },
    {
     "data": {
      "text/latex": [
       "$\\displaystyle dv \\sqrt{\\left(R + r \\cos{\\left(u \\right)}\\right)^{2}}$"
      ],
      "text/plain": [
       "dv*sqrt((R + r*cos(u))**2)"
      ]
     },
     "metadata": {},
     "output_type": "display_data"
    },
    {
     "name": "stdout",
     "output_type": "stream",
     "text": [
      "\n",
      "\n",
      "W = [w_ij | i,j= 1,3]\n"
     ]
    },
    {
     "data": {
      "text/latex": [
       "$\\displaystyle \\left[\\begin{matrix}0 & - \\frac{dv \\left(R + r \\cos{\\left(u \\right)}\\right) \\sqrt{r^{2}} \\sin{\\left(u \\right)}}{r \\sqrt{\\left(R + r \\cos{\\left(u \\right)}\\right)^{2}}} & \\frac{du \\left(R + r \\cos{\\left(u \\right)}\\right)}{\\sqrt{\\left(R + r \\cos{\\left(u \\right)}\\right)^{2}}}\\\\\\frac{dv r \\sqrt{\\left(R + r \\cos{\\left(u \\right)}\\right)^{2}} \\sin{\\left(u \\right)}}{\\left(R + r \\cos{\\left(u \\right)}\\right) \\sqrt{r^{2}}} & 0 & \\frac{dv r \\cos{\\left(u \\right)}}{\\sqrt{r^{2}}}\\\\- \\frac{du \\sqrt{\\left(R + r \\cos{\\left(u \\right)}\\right)^{2}}}{R + r \\cos{\\left(u \\right)}} & - \\frac{dv \\sqrt{r^{2}} \\cos{\\left(u \\right)}}{r} & 0\\end{matrix}\\right]$"
      ],
      "text/plain": [
       "Matrix([\n",
       "[                                                              0, -dv*(R + r*cos(u))*sqrt(r**2)*sin(u)/(r*sqrt((R + r*cos(u))**2)), du*(R + r*cos(u))/sqrt((R + r*cos(u))**2)],\n",
       "[dv*r*sqrt((R + r*cos(u))**2)*sin(u)/((R + r*cos(u))*sqrt(r**2)),                                                                0,                    dv*r*cos(u)/sqrt(r**2)],\n",
       "[                     -du*sqrt((R + r*cos(u))**2)/(R + r*cos(u)),                                          -dv*sqrt(r**2)*cos(u)/r,                                         0]])"
      ]
     },
     "metadata": {},
     "output_type": "display_data"
    },
    {
     "name": "stdout",
     "output_type": "stream",
     "text": [
      "\n",
      "\n",
      "K\n"
     ]
    },
    {
     "data": {
      "text/latex": [
       "$\\displaystyle \\frac{\\cos{\\left(u \\right)}}{r \\left(R + r \\cos{\\left(u \\right)}\\right)}$"
      ],
      "text/plain": [
       "cos(u)/(r*(R + r*cos(u)))"
      ]
     },
     "metadata": {},
     "output_type": "display_data"
    },
    {
     "name": "stdout",
     "output_type": "stream",
     "text": [
      "\n",
      "\n",
      "B\n"
     ]
    },
    {
     "data": {
      "text/latex": [
       "$\\displaystyle \\left[\\begin{matrix}\\frac{1}{u^{2} + 1} & 0\\\\0 & - \\frac{1}{u^{2} + 1}\\end{matrix}\\right]$"
      ],
      "text/plain": [
       "Matrix([\n",
       "[1/(u**2 + 1),             0],\n",
       "[           0, -1/(u**2 + 1)]])"
      ]
     },
     "metadata": {},
     "output_type": "display_data"
    }
   ],
   "source": [
    "th1,th2=t.calc_thetas()\n",
    "print(\"\\n\\ntheta1\")\n",
    "display(th1)\n",
    "print(\"\\n\\ntheta2\")\n",
    "display(th2)\n",
    "W_a,W_b=t.calc_mat_W()\n",
    "W = W_a*du+W_b*dv\n",
    "print(\"\\n\\nW = [w_ij | i,j= 1,3]\")\n",
    "display(W)\n",
    "print(\"\\n\\nK\")\n",
    "display(thorus.K)\n",
    "print(\"\\n\\nB\")\n",
    "display(B)"
   ]
  },
  {
   "cell_type": "code",
   "execution_count": null,
   "id": "f6a527fe",
   "metadata": {},
   "outputs": [],
   "source": []
  }
 ],
 "metadata": {
  "kernelspec": {
   "display_name": "Python 3 (ipykernel)",
   "language": "python",
   "name": "python3"
  },
  "language_info": {
   "codemirror_mode": {
    "name": "ipython",
    "version": 3
   },
   "file_extension": ".py",
   "mimetype": "text/x-python",
   "name": "python",
   "nbconvert_exporter": "python",
   "pygments_lexer": "ipython3",
   "version": "3.10.7"
  }
 },
 "nbformat": 4,
 "nbformat_minor": 5
}
