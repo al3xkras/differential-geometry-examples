{
 "cells": [
  {
   "cell_type": "code",
   "execution_count": 1,
   "id": "e05da3c0",
   "metadata": {},
   "outputs": [],
   "source": [
    "import sympy as sp\n",
    "from sympy import sin,cos\n",
    "import numpy as np\n",
    "from sympy import diff\n",
    "from IPython.display import display"
   ]
  },
  {
   "cell_type": "code",
   "execution_count": 2,
   "id": "34d488ff",
   "metadata": {},
   "outputs": [],
   "source": [
    "from commons import Surface"
   ]
  },
  {
   "cell_type": "code",
   "execution_count": 3,
   "id": "83b9bda7",
   "metadata": {},
   "outputs": [],
   "source": [
    "u,v=sp.symbols(\"u,v\")\n",
    "s = Surface(u,v,[\n",
    "    u*sp.cos(v),\n",
    "    u*sp.sin(v),\n",
    "    v**2+u\n",
    "])"
   ]
  },
  {
   "cell_type": "code",
   "execution_count": 4,
   "id": "d54a6461",
   "metadata": {},
   "outputs": [],
   "source": [
    "c_syms=s.find_christoffels_symbols()"
   ]
  },
  {
   "cell_type": "code",
   "execution_count": 5,
   "id": "a5b07715",
   "metadata": {},
   "outputs": [
    {
     "name": "stdout",
     "output_type": "stream",
     "text": [
      "Christoffel's symbols:\n",
      "uuu\n"
     ]
    },
    {
     "data": {
      "text/latex": [
       "$\\displaystyle 0$"
      ],
      "text/plain": [
       "0"
      ]
     },
     "metadata": {},
     "output_type": "display_data"
    },
    {
     "name": "stdout",
     "output_type": "stream",
     "text": [
      "\n",
      "uuv\n"
     ]
    },
    {
     "data": {
      "text/latex": [
       "$\\displaystyle 0$"
      ],
      "text/plain": [
       "0"
      ]
     },
     "metadata": {},
     "output_type": "display_data"
    },
    {
     "name": "stdout",
     "output_type": "stream",
     "text": [
      "\n",
      "uvu\n"
     ]
    },
    {
     "data": {
      "text/latex": [
       "$\\displaystyle - \\frac{u v}{u^{2} + 2 v^{2}}$"
      ],
      "text/plain": [
       "-u*v/(u**2 + 2*v**2)"
      ]
     },
     "metadata": {},
     "output_type": "display_data"
    },
    {
     "name": "stdout",
     "output_type": "stream",
     "text": [
      "\n",
      "uvv\n"
     ]
    },
    {
     "data": {
      "text/latex": [
       "$\\displaystyle \\frac{u}{u^{2} + 2 v^{2}}$"
      ],
      "text/plain": [
       "u/(u**2 + 2*v**2)"
      ]
     },
     "metadata": {},
     "output_type": "display_data"
    },
    {
     "name": "stdout",
     "output_type": "stream",
     "text": [
      "\n",
      "vuu\n"
     ]
    },
    {
     "data": {
      "text/latex": [
       "$\\displaystyle - \\frac{u v}{u^{2} + 2 v^{2}}$"
      ],
      "text/plain": [
       "-u*v/(u**2 + 2*v**2)"
      ]
     },
     "metadata": {},
     "output_type": "display_data"
    },
    {
     "name": "stdout",
     "output_type": "stream",
     "text": [
      "\n",
      "vuv\n"
     ]
    },
    {
     "data": {
      "text/latex": [
       "$\\displaystyle \\frac{u}{u^{2} + 2 v^{2}}$"
      ],
      "text/plain": [
       "u/(u**2 + 2*v**2)"
      ]
     },
     "metadata": {},
     "output_type": "display_data"
    },
    {
     "name": "stdout",
     "output_type": "stream",
     "text": [
      "\n",
      "vvu\n"
     ]
    },
    {
     "data": {
      "text/latex": [
       "$\\displaystyle \\frac{u \\left(- u^{2} + 2 u - 4 v^{2}\\right)}{2 \\left(u^{2} + 2 v^{2}\\right)}$"
      ],
      "text/plain": [
       "u*(-u**2 + 2*u - 4*v**2)/(2*(u**2 + 2*v**2))"
      ]
     },
     "metadata": {},
     "output_type": "display_data"
    },
    {
     "name": "stdout",
     "output_type": "stream",
     "text": [
      "\n",
      "vvv\n"
     ]
    },
    {
     "data": {
      "text/latex": [
       "$\\displaystyle \\frac{v \\left(u + 2\\right)}{u^{2} + 2 v^{2}}$"
      ],
      "text/plain": [
       "v*(u + 2)/(u**2 + 2*v**2)"
      ]
     },
     "metadata": {},
     "output_type": "display_data"
    },
    {
     "name": "stdout",
     "output_type": "stream",
     "text": [
      "\n"
     ]
    }
   ],
   "source": [
    "print(\"Christoffel's symbols:\")\n",
    "for c in c_syms:\n",
    "    print(c)\n",
    "    display(c_syms[c])\n",
    "    print()"
   ]
  },
  {
   "cell_type": "code",
   "execution_count": null,
   "id": "25a6055c",
   "metadata": {},
   "outputs": [],
   "source": []
  }
 ],
 "metadata": {
  "kernelspec": {
   "display_name": "Python 3 (ipykernel)",
   "language": "python",
   "name": "python3"
  },
  "language_info": {
   "codemirror_mode": {
    "name": "ipython",
    "version": 3
   },
   "file_extension": ".py",
   "mimetype": "text/x-python",
   "name": "python",
   "nbconvert_exporter": "python",
   "pygments_lexer": "ipython3",
   "version": "3.10.7"
  }
 },
 "nbformat": 4,
 "nbformat_minor": 5
}
