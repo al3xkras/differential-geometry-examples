{
 "cells": [
  {
   "cell_type": "code",
   "execution_count": 1,
   "id": "c575a8e3",
   "metadata": {},
   "outputs": [],
   "source": [
    "import sympy as sp\n",
    "from sympy import sin,cos\n",
    "import numpy as np\n",
    "from sympy import diff\n",
    "from IPython.display import display"
   ]
  },
  {
   "cell_type": "code",
   "execution_count": 2,
   "id": "1a89c569",
   "metadata": {},
   "outputs": [],
   "source": [
    "from commons import SurfaceCurve,Surface,MethodOfOrthonormalFrames,CovariantDeriv"
   ]
  },
  {
   "cell_type": "code",
   "execution_count": 3,
   "id": "5a20748f",
   "metadata": {},
   "outputs": [],
   "source": [
    "u,v = sp.symbols(\"u,v\")\n",
    "du,dv=sp.symbols(\"du,dv\")"
   ]
  },
  {
   "cell_type": "markdown",
   "id": "66a95a6d",
   "metadata": {},
   "source": [
    "<pre>First we shall start with the case of a surface p(u, v) in the space. Let a tangent vector\n",
    "X(t) be given at each point on curve p(t) = p(u(t), v(t)) on this surface. (We call\n",
    "this a vector field along the curve.) Since X(t) is a vector in the space, it has three\n",
    "components and by differentiating every component for t, we define X`(t) (or dX/dt ).\n",
    "X`(t) also has three components, so we can assume that it is also a vector in the\n",
    "space, but it is not necessarily tangent to the surface p(u, v). We write X`(t) as a sum\n",
    "of a tangent vector and normal vector of this surface</pre>"
   ]
  },
  {
   "cell_type": "markdown",
   "id": "8d77622b",
   "metadata": {},
   "source": [
    "![](./images/im3.4.1.png)"
   ]
  },
  {
   "cell_type": "code",
   "execution_count": 4,
   "id": "fe6711b4",
   "metadata": {},
   "outputs": [],
   "source": [
    "class CovariantDeriv:\n",
    "    def __init__(self,surface_curve:SurfaceCurve):\n",
    "        self.surface_curve=surface_curve\n",
    "        self.curve=self.surface_curve.curve_param\n",
    "        self.u=self.surface_curve.u\n",
    "        self.v=self.surface_curve.v\n",
    "        #Any parameterization. Not necesarilly by distance.\n",
    "        self.t=self.surface_curve.s\n",
    "        self.surface=self.surface_curve.surface\n",
    "        self.ort=MethodOfOrthonormalFrames(self.surface)\n",
    "        self.W_u,self.W_v=self.ort.calc_mat_W()\n",
    "        self.e1=sp.Array(self.ort.e1)\n",
    "        self.e2=sp.Array(self.ort.e2)\n",
    "        self.e3=sp.Array(self.ort.e3)\n",
    "        self.e1,self.e2,self.e3=[(x/sp.sqrt(np.dot(x,x))).simplify() for x in [self.e1,self.e2,self.e3]]\n",
    "        \n",
    "    def covariant_deriv(self,X):\n",
    "        #X = X[0]*surface.e1 + X[1]*surface.e2\n",
    "        \n",
    "        #Covariant deriv <=> the tangent vector\n",
    "        curve=self.curve\n",
    "        t=self.t\n",
    "        xi1,xi2=X\n",
    "        w12u,w21u=self.W_u[0,1],self.W_u[1,0]\n",
    "        w12v,w21v=self.W_v[0,1],self.W_v[1,0]\n",
    "        u_t,v_t=self.surface_curve.curve_param\n",
    "        e1,e2=sp.Array(self.e1),sp.Array(self.e2)\n",
    "        w12u,w21u,w12v,w21v,e1,e2=[x.subs(self.u,u_t).subs(self.v,v_t).simplify() for x in [w12u,w21u,w12v,w21v,e1,e2]]\n",
    "        dxi1dt=diff(xi1,t)\n",
    "        dxi2dt=diff(xi2,t)\n",
    "        #u12/dt = (a*du+b*dv)/dt = a*u' + b*v'\n",
    "        return ((dxi1dt+xi2*(w21u*diff(u_t,t)+w21v*diff(v_t,t)))*e1 + \\\n",
    "                (dxi2dt+xi1*(w12u*diff(u_t,t)+w12v*diff(v_t,t)))*e2).simplify()\n",
    "\n",
    "    def tangent_vector(self,X):\n",
    "        return self.covariant_deriv(X)\n",
    "    \n",
    "    def normal_vector(self,X):\n",
    "        curve=self.curve\n",
    "        #A_X\n",
    "        t=self.t\n",
    "        xi1,xi2=X\n",
    "        w13u=self.W_u[0,2]\n",
    "        w13v=self.W_v[0,2]\n",
    "        u_t,v_t=self.surface_curve.curve_param\n",
    "        e3=self.e3\n",
    "        w13u,w13v,e3=[x.subs(self.u,u_t).subs(self.v,v_t).simplify() for x in [w13u,w13v,e3]]\n",
    "        #u12/dt = (a*du+b*dv)/dt = a*u' + b*v'\n",
    "        return ((xi1*(w13u*diff(u_t,t)+w13v*diff(v_t,t))+ \\\n",
    "                xi2*(w13u*diff(u_t,t)+w13v*diff(v_t,t)))*e3).simplify()\n",
    "    \n",
    "    def X_deriv(self,X):\n",
    "        return self.tangent_vector(X)+self.normal_vector(X)\n",
    "    "
   ]
  },
  {
   "cell_type": "code",
   "execution_count": 5,
   "id": "a27e0109",
   "metadata": {},
   "outputs": [],
   "source": [
    "t=sp.symbols('t')\n",
    "surf=Surface(u,v,[\n",
    "    u,\n",
    "    v,\n",
    "    u**2+v**2\n",
    "])\n",
    "cur=[\n",
    "    t, #u(t)\n",
    "    -t # v(t)\n",
    "]\n",
    "sc=SurfaceCurve(u,v,t,surf,cur)\n",
    "cov = CovariantDeriv(sc)"
   ]
  },
  {
   "cell_type": "code",
   "execution_count": 6,
   "id": "ede4d374",
   "metadata": {},
   "outputs": [
    {
     "name": "stdout",
     "output_type": "stream",
     "text": [
      "DX/dt:\n"
     ]
    },
    {
     "data": {
      "text/latex": [
       "$\\displaystyle \\left[\\begin{matrix}\\frac{4 t \\left(- 4 t^{2} u + 4 t^{2} v + v^{2} \\sqrt{\\frac{32 t^{4} + 12 t^{2} + 1}{16 t^{4} + 8 t^{2} + 1}} \\sqrt{4 t^{2} + 1}\\right)}{\\sqrt{4 t^{2} + 1} \\cdot \\left(32 t^{4} + 12 t^{2} + 1\\right)} & \\frac{4 t \\sqrt{4 t^{2} + 1} \\left(- u + v\\right)}{32 t^{4} + 12 t^{2} + 1} & \\frac{8 t^{2} \\left(u + v^{2} \\sqrt{\\frac{32 t^{4} + 12 t^{2} + 1}{16 t^{4} + 8 t^{2} + 1}} \\sqrt{4 t^{2} + 1} - v\\right)}{\\sqrt{4 t^{2} + 1} \\cdot \\left(32 t^{4} + 12 t^{2} + 1\\right)}\\end{matrix}\\right]$"
      ],
      "text/plain": [
       "[4*t*(-4*t**2*u + 4*t**2*v + v**2*sqrt((32*t**4 + 12*t**2 + 1)/(16*t**4 + 8*t**2 + 1))*sqrt(4*t**2 + 1))/(sqrt(4*t**2 + 1)*(32*t**4 + 12*t**2 + 1)), 4*t*sqrt(4*t**2 + 1)*(-u + v)/(32*t**4 + 12*t**2 + 1), 8*t**2*(u + v**2*sqrt((32*t**4 + 12*t**2 + 1)/(16*t**4 + 8*t**2 + 1))*sqrt(4*t**2 + 1) - v)/(sqrt(4*t**2 + 1)*(32*t**4 + 12*t**2 + 1))]"
      ]
     },
     "metadata": {},
     "output_type": "display_data"
    },
    {
     "name": "stdout",
     "output_type": "stream",
     "text": [
      "A_X:\n"
     ]
    },
    {
     "data": {
      "text/latex": [
       "$\\displaystyle \\left[\\begin{matrix}\\frac{4 t \\left(- u - v^{2} + v\\right)}{\\sqrt{4 t^{2} + 1} \\cdot \\left(8 t^{2} + 1\\right)} & \\frac{4 t \\left(u + v^{2} - v\\right)}{\\sqrt{4 t^{2} + 1} \\cdot \\left(8 t^{2} + 1\\right)} & \\frac{2 \\left(u + v^{2} - v\\right)}{\\sqrt{4 t^{2} + 1} \\cdot \\left(8 t^{2} + 1\\right)}\\end{matrix}\\right]$"
      ],
      "text/plain": [
       "[4*t*(-u - v**2 + v)/(sqrt(4*t**2 + 1)*(8*t**2 + 1)), 4*t*(u + v**2 - v)/(sqrt(4*t**2 + 1)*(8*t**2 + 1)), 2*(u + v**2 - v)/(sqrt(4*t**2 + 1)*(8*t**2 + 1))]"
      ]
     },
     "metadata": {},
     "output_type": "display_data"
    }
   ],
   "source": [
    "X=[\n",
    "    u-v,v**2,#X = (u-v)e1 + (v**2)e2\n",
    "]\n",
    "print(\"DX/dt:\")\n",
    "display(cov.covariant_deriv(X))\n",
    "print(\"A_X:\")\n",
    "display(cov.normal_vector(X))"
   ]
  },
  {
   "cell_type": "code",
   "execution_count": 110,
   "id": "b148ab66",
   "metadata": {},
   "outputs": [
    {
     "name": "stdout",
     "output_type": "stream",
     "text": [
      "X'\n"
     ]
    },
    {
     "data": {
      "text/latex": [
       "$\\displaystyle \\left[\\begin{matrix}\\frac{4 t \\left(- 4 t^{2} u + 4 t^{2} v + v^{2} \\sqrt{\\frac{32 t^{4} + 12 t^{2} + 1}{16 t^{4} + 8 t^{2} + 1}} \\sqrt{4 t^{2} + 1}\\right)}{\\sqrt{4 t^{2} + 1} \\cdot \\left(32 t^{4} + 12 t^{2} + 1\\right)} + \\frac{4 t \\left(- u - v^{2} + v\\right)}{\\sqrt{4 t^{2} + 1} \\cdot \\left(8 t^{2} + 1\\right)} & \\frac{4 t \\sqrt{4 t^{2} + 1} \\left(- u + v\\right)}{32 t^{4} + 12 t^{2} + 1} + \\frac{4 t \\left(u + v^{2} - v\\right)}{\\sqrt{4 t^{2} + 1} \\cdot \\left(8 t^{2} + 1\\right)} & \\frac{8 t^{2} \\left(u + v^{2} \\sqrt{\\frac{32 t^{4} + 12 t^{2} + 1}{16 t^{4} + 8 t^{2} + 1}} \\sqrt{4 t^{2} + 1} - v\\right)}{\\sqrt{4 t^{2} + 1} \\cdot \\left(32 t^{4} + 12 t^{2} + 1\\right)} + \\frac{2 \\left(u + v^{2} - v\\right)}{\\sqrt{4 t^{2} + 1} \\cdot \\left(8 t^{2} + 1\\right)}\\end{matrix}\\right]$"
      ],
      "text/plain": [
       "[4*t*(-4*t**2*u + 4*t**2*v + v**2*sqrt((32*t**4 + 12*t**2 + 1)/(16*t**4 + 8*t**2 + 1))*sqrt(4*t**2 + 1))/(sqrt(4*t**2 + 1)*(32*t**4 + 12*t**2 + 1)) + 4*t*(-u - v**2 + v)/(sqrt(4*t**2 + 1)*(8*t**2 + 1)), 4*t*sqrt(4*t**2 + 1)*(-u + v)/(32*t**4 + 12*t**2 + 1) + 4*t*(u + v**2 - v)/(sqrt(4*t**2 + 1)*(8*t**2 + 1)), 8*t**2*(u + v**2*sqrt((32*t**4 + 12*t**2 + 1)/(16*t**4 + 8*t**2 + 1))*sqrt(4*t**2 + 1) - v)/(sqrt(4*t**2 + 1)*(32*t**4 + 12*t**2 + 1)) + 2*(u + v**2 - v)/(sqrt(4*t**2 + 1)*(8*t**2 + 1))]"
      ]
     },
     "execution_count": 110,
     "metadata": {},
     "output_type": "execute_result"
    }
   ],
   "source": [
    "print(\"X'\")\n",
    "cov.X_deriv(X)"
   ]
  },
  {
   "cell_type": "code",
   "execution_count": 111,
   "id": "92766f97",
   "metadata": {},
   "outputs": [
    {
     "name": "stdout",
     "output_type": "stream",
     "text": [
      "W = (w_ij)\n"
     ]
    },
    {
     "data": {
      "text/latex": [
       "$\\displaystyle \\left[\\begin{matrix}0 & \\frac{4 du v \\sqrt{4 u^{2} + 1}}{\\sqrt{\\frac{16 u^{4} + 16 u^{2} v^{2} + 8 u^{2} + 4 v^{2} + 1}{16 u^{4} + 8 u^{2} + 1}} \\cdot \\left(16 u^{4} + 8 u^{2} + 1\\right)} & \\frac{2 du}{\\sqrt{\\frac{16 u^{4} + 16 u^{2} v^{2} + 8 u^{2} + 4 v^{2} + 1}{16 u^{4} + 8 u^{2} + 1}} \\cdot \\left(4 u^{2} + 1\\right)}\\\\- \\frac{4 du v \\sqrt{\\frac{16 u^{4} + 16 u^{2} v^{2} + 8 u^{2} + 4 v^{2} + 1}{16 u^{4} + 8 u^{2} + 1}}}{\\sqrt{4 u^{2} + 1} \\cdot \\left(4 u^{2} + 4 v^{2} + 1\\right)} & 0 & - \\frac{8 du u v}{\\sqrt{4 u^{2} + 1} \\cdot \\left(4 u^{2} + 4 v^{2} + 1\\right)} + \\frac{2 dv \\sqrt{4 u^{2} + 1}}{4 u^{2} + 4 v^{2} + 1}\\\\- \\frac{2 du \\sqrt{\\frac{16 u^{4} + 16 u^{2} v^{2} + 8 u^{2} + 4 v^{2} + 1}{16 u^{4} + 8 u^{2} + 1}}}{4 u^{2} + 4 v^{2} + 1} & \\frac{8 du u v \\sqrt{4 u^{2} + 1}}{16 u^{4} + 16 u^{2} v^{2} + 8 u^{2} + 4 v^{2} + 1} - \\frac{2 dv \\sqrt{4 u^{2} + 1}}{4 u^{2} + 4 v^{2} + 1} & 0\\end{matrix}\\right]$"
      ],
      "text/plain": [
       "Matrix([\n",
       "[                                                                                                                           0, 4*du*v*sqrt(4*u**2 + 1)/(sqrt((16*u**4 + 16*u**2*v**2 + 8*u**2 + 4*v**2 + 1)/(16*u**4 + 8*u**2 + 1))*(16*u**4 + 8*u**2 + 1)),  2*du/(sqrt((16*u**4 + 16*u**2*v**2 + 8*u**2 + 4*v**2 + 1)/(16*u**4 + 8*u**2 + 1))*(4*u**2 + 1))],\n",
       "[-4*du*v*sqrt((16*u**4 + 16*u**2*v**2 + 8*u**2 + 4*v**2 + 1)/(16*u**4 + 8*u**2 + 1))/(sqrt(4*u**2 + 1)*(4*u**2 + 4*v**2 + 1)),                                                                                                                            0, -8*du*u*v/(sqrt(4*u**2 + 1)*(4*u**2 + 4*v**2 + 1)) + 2*dv*sqrt(4*u**2 + 1)/(4*u**2 + 4*v**2 + 1)],\n",
       "[                     -2*du*sqrt((16*u**4 + 16*u**2*v**2 + 8*u**2 + 4*v**2 + 1)/(16*u**4 + 8*u**2 + 1))/(4*u**2 + 4*v**2 + 1),       8*du*u*v*sqrt(4*u**2 + 1)/(16*u**4 + 16*u**2*v**2 + 8*u**2 + 4*v**2 + 1) - 2*dv*sqrt(4*u**2 + 1)/(4*u**2 + 4*v**2 + 1),                                                                                                0]])"
      ]
     },
     "execution_count": 111,
     "metadata": {},
     "output_type": "execute_result"
    }
   ],
   "source": [
    "#Matrix W\n",
    "print(\"W = (w_ij)\")\n",
    "cov.W_u*du+cov.W_v*dv"
   ]
  },
  {
   "cell_type": "code",
   "execution_count": null,
   "id": "df10fc48",
   "metadata": {},
   "outputs": [],
   "source": []
  }
 ],
 "metadata": {
  "kernelspec": {
   "display_name": "Python 3 (ipykernel)",
   "language": "python",
   "name": "python3"
  },
  "language_info": {
   "codemirror_mode": {
    "name": "ipython",
    "version": 3
   },
   "file_extension": ".py",
   "mimetype": "text/x-python",
   "name": "python",
   "nbconvert_exporter": "python",
   "pygments_lexer": "ipython3",
   "version": "3.10.7"
  }
 },
 "nbformat": 4,
 "nbformat_minor": 5
}
