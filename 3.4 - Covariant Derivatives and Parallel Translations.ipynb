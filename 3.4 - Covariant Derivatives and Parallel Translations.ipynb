{
 "cells": [
  {
   "cell_type": "code",
   "execution_count": 1,
   "id": "c575a8e3",
   "metadata": {},
   "outputs": [],
   "source": [
    "import sympy as sp\n",
    "from sympy import sin,cos\n",
    "import numpy as np\n",
    "from sympy import diff\n",
    "from IPython.display import display"
   ]
  },
  {
   "cell_type": "code",
   "execution_count": 2,
   "id": "1a89c569",
   "metadata": {},
   "outputs": [],
   "source": [
    "from commons import SurfaceCurve,Surface,MethodOfOrthonormalFrames,CovariantDeriv,TangentVectorDiffOp"
   ]
  },
  {
   "cell_type": "code",
   "execution_count": 4,
   "id": "5a20748f",
   "metadata": {},
   "outputs": [],
   "source": [
    "u,v = sp.symbols(\"u,v\")\n",
    "du,dv=sp.symbols(\"du,dv\")"
   ]
  },
  {
   "cell_type": "markdown",
   "id": "66a95a6d",
   "metadata": {},
   "source": [
    "<pre>First we shall start with the case of a surface p(u, v) in the space. Let a tangent vector\n",
    "X(t) be given at each point on curve p(t) = p(u(t), v(t)) on this surface. (We call\n",
    "this a vector field along the curve.) Since X(t) is a vector in the space, it has three\n",
    "components and by differentiating every component for t, we define X`(t) (or dX/dt ).\n",
    "X`(t) also has three components, so we can assume that it is also a vector in the\n",
    "space, but it is not necessarily tangent to the surface p(u, v). We write X`(t) as a sum\n",
    "of a tangent vector and normal vector of this surface</pre>"
   ]
  },
  {
   "cell_type": "markdown",
   "id": "8d77622b",
   "metadata": {},
   "source": [
    "![](./images/im3.4.1.png)"
   ]
  },
  {
   "cell_type": "code",
   "execution_count": 10,
   "id": "fe6711b4",
   "metadata": {},
   "outputs": [],
   "source": [
    "class CovariantDeriv:\n",
    "    def __init__(self,surface_curve:SurfaceCurve):\n",
    "        self.surface_curve=surface_curve\n",
    "        self.curve=self.surface_curve.curve_param\n",
    "        self.u=self.surface_curve.u\n",
    "        self.v=self.surface_curve.v\n",
    "        #Any parameterization. Not necesarilly by distance.\n",
    "        self.t=self.surface_curve.s\n",
    "        self.surface=self.surface_curve.surface\n",
    "        self.ort=MethodOfOrthonormalFrames(self.surface)\n",
    "        self.W_u,self.W_v=self.ort.calc_mat_W()\n",
    "        self.e1=sp.Array(self.ort.e1)\n",
    "        self.e2=sp.Array(self.ort.e2)\n",
    "        self.e3=sp.Array(self.ort.e3)\n",
    "        self.e1,self.e2,self.e3=[(x/sp.sqrt(np.dot(x,x))).simplify() for x in [self.e1,self.e2,self.e3]]\n",
    "        \n",
    "    def covariant_deriv(self,e1=None,e2=None):\n",
    "        #X = X[0]*surface.e1 + X[1]*surface.e2\n",
    "        \n",
    "        #Covariant deriv <=> the tangent vector\n",
    "        t=self.t\n",
    "        u_t,v_t=self.surface_curve.curve_param\n",
    "        \n",
    "        e1,e2,e3=self.e1,self.e2,self.e3\n",
    "        e1,e2,e3=[x.subs(self.u,u_t).subs(self.v,v_t).simplify() for x in [e1,e2,e3]]\n",
    "        \n",
    "        xi1,xi2,xi3=self.calc_X_deriv_xi()\n",
    "        \n",
    "        return xi1*e1+xi2*e2\n",
    "    \n",
    "    def calc_X_deriv_xi(self):\n",
    "        t=self.t\n",
    "        xi1,xi2,xi3 = sp.symbols(\"xi1,xi2,xi3\")\n",
    "        u_t,v_t=self.surface_curve.curve_param\n",
    "        \n",
    "        curve=[f.subs(self.u,u_t).subs(self.v,v_t).simplify() for f in self.surface.p]\n",
    "        \n",
    "        X = sp.Array([diff(f,t) for f in curve])\n",
    "        X_d = sp.Array([diff(f,t) for f in X])\n",
    "        e1,e2,e3=self.e1,self.e2,self.e3\n",
    "        e1,e2,e3=[x.subs(self.u,u_t).subs(self.v,v_t).simplify() for x in [e1,e2,e3]]\n",
    "        \n",
    "        sols=sp.solve([xi1*e1[i]+xi2*e2[i]+xi3*e3[i]-X_d[i] for i in range(3)],\n",
    "                      (xi1,xi2,xi3))\n",
    "        \n",
    "        return sols[xi1],sols[xi2],sols[xi3]\n",
    "\n",
    "    def tangent_vector(self):\n",
    "        return self.covariant_deriv()\n",
    "    \n",
    "    def normal_vector(self):\n",
    "        t=self.t\n",
    "        u_t,v_t=self.surface_curve.curve_param\n",
    "        \n",
    "        e1,e2,e3=self.e1,self.e2,self.e3\n",
    "        e1,e2,e3=[x.subs(self.u,u_t).subs(self.v,v_t).simplify() for x in [e1,e2,e3]]\n",
    "        \n",
    "        xi1,xi2,xi3=self.calc_X_deriv_xi()\n",
    "        \n",
    "        return xi3*e3\n",
    "    \n",
    "    def X_deriv(self):\n",
    "        t=self.t\n",
    "        u_t,v_t=self.surface_curve.curve_param\n",
    "        curve=[f.subs(self.u,u_t).subs(self.v,v_t).simplify() for f in self.surface.p]\n",
    "        return sp.Array([diff(diff(f,t)) for f in curve])\n",
    "    \n",
    "    def problem_3_4_2_eq(self):\n",
    "        curve=self.curve\n",
    "        t=self.t\n",
    "        xi1,xi2=self.calc_xi_i()\n",
    "        A=self.ort.calc_mat_A()\n",
    "        B=A.inv()\n",
    "        \n",
    "        w12u,w21u=self.W_u[0,1],self.W_u[1,0]\n",
    "        w12v,w21v=self.W_v[0,1],self.W_v[1,0]\n",
    "        u_t,v_t=self.surface_curve.curve_param\n",
    "        e1,e2=sp.Array(self.e1),sp.Array(self.e2)\n",
    "        w12u,w21u,w12v,w21v,e1,e2,xi1,xi2=[x.subs(self.u,u_t).subs(self.v,v_t).simplify() for x in \n",
    "                                           [w12u,w21u,w12v,w21v,e1,e2,xi1,xi2]]\n",
    "        dxi1dt=diff(xi1,t)\n",
    "        dxi2dt=diff(xi2,t)\n",
    "        dudt,dvdt=diff(u_t,t),diff(v_t,t)\n",
    "        g=self.surface.find_christoffels_symbols()\n",
    "        \n",
    "        \n",
    "        d_du,d_dv=sp.symbols(\"d_du,d_dv\")\n",
    "        return dxi1dt+d_du*(g[\"uuu\"]*xi1*dudt+g[\"uvu\"]*xi1*dvdt+g[\"vuu\"]*xi2*dudt+g[\"vvu\"]*xi2*dvdt)+\\\n",
    "               dxi2dt+d_dv*(g[\"uuv\"]*xi1*dudt+g[\"uvv\"]*xi1*dvdt+g[\"vuv\"]*xi2*dudt+g[\"vvv\"]*xi2*dvdt)\n",
    "        \n",
    "    "
   ]
  },
  {
   "cell_type": "code",
   "execution_count": 11,
   "id": "a27e0109",
   "metadata": {},
   "outputs": [],
   "source": [
    "t=sp.symbols('t',positive=True)\n",
    "surf=Surface(u,v,[\n",
    "    u,\n",
    "    v,\n",
    "    u**2+v**2\n",
    "])\n",
    "cur=[\n",
    "    t, #u(t)\n",
    "    -sp.sqrt(t) # v(t)\n",
    "]\n",
    "sc=SurfaceCurve(u,v,t,surf,cur)\n",
    "cov = CovariantDeriv(sc)"
   ]
  },
  {
   "cell_type": "code",
   "execution_count": 12,
   "id": "ebf99668",
   "metadata": {},
   "outputs": [],
   "source": [
    "cov = CovariantDeriv(sc)"
   ]
  },
  {
   "cell_type": "code",
   "execution_count": 13,
   "id": "4e60eace",
   "metadata": {},
   "outputs": [
    {
     "data": {
      "text/latex": [
       "$\\displaystyle \\frac{4 t}{\\sqrt{4 t^{2} + 1}}$"
      ],
      "text/plain": [
       "4*t/sqrt(4*t**2 + 1)"
      ]
     },
     "metadata": {},
     "output_type": "display_data"
    },
    {
     "data": {
      "text/latex": [
       "$\\displaystyle - \\frac{48 t^{\\frac{9}{2}} \\sqrt{16 t^{4} + 16 t^{3} + 8 t^{2} + 4 t + 1}}{256 t^{8} + 256 t^{7} + 192 t^{6} + 128 t^{5} + 48 t^{4} + 16 t^{3} + 4 t^{2}} - \\frac{8 t^{\\frac{5}{2}} \\sqrt{16 t^{4} + 16 t^{3} + 8 t^{2} + 4 t + 1}}{256 t^{8} + 256 t^{7} + 192 t^{6} + 128 t^{5} + 48 t^{4} + 16 t^{3} + 4 t^{2}} + \\frac{\\sqrt{t} \\sqrt{16 t^{4} + 16 t^{3} + 8 t^{2} + 4 t + 1}}{256 t^{8} + 256 t^{7} + 192 t^{6} + 128 t^{5} + 48 t^{4} + 16 t^{3} + 4 t^{2}}$"
      ],
      "text/plain": [
       "-48*t**(9/2)*sqrt(16*t**4 + 16*t**3 + 8*t**2 + 4*t + 1)/(256*t**8 + 256*t**7 + 192*t**6 + 128*t**5 + 48*t**4 + 16*t**3 + 4*t**2) - 8*t**(5/2)*sqrt(16*t**4 + 16*t**3 + 8*t**2 + 4*t + 1)/(256*t**8 + 256*t**7 + 192*t**6 + 128*t**5 + 48*t**4 + 16*t**3 + 4*t**2) + sqrt(t)*sqrt(16*t**4 + 16*t**3 + 8*t**2 + 4*t + 1)/(256*t**8 + 256*t**7 + 192*t**6 + 128*t**5 + 48*t**4 + 16*t**3 + 4*t**2)"
      ]
     },
     "metadata": {},
     "output_type": "display_data"
    },
    {
     "data": {
      "text/latex": [
       "$\\displaystyle \\frac{4 t \\sqrt{64 t^{6} + 64 t^{5} + 48 t^{4} + 32 t^{3} + 12 t^{2} + 4 t + 1}}{8 t^{3} \\sqrt{16 t^{4} + 8 t^{2} + 1} + 8 t^{2} \\sqrt{16 t^{4} + 8 t^{2} + 1} + 2 t \\sqrt{16 t^{4} + 8 t^{2} + 1}} + \\frac{\\sqrt{64 t^{6} + 64 t^{5} + 48 t^{4} + 32 t^{3} + 12 t^{2} + 4 t + 1}}{8 t^{3} \\sqrt{16 t^{4} + 8 t^{2} + 1} + 8 t^{2} \\sqrt{16 t^{4} + 8 t^{2} + 1} + 2 t \\sqrt{16 t^{4} + 8 t^{2} + 1}}$"
      ],
      "text/plain": [
       "4*t*sqrt(64*t**6 + 64*t**5 + 48*t**4 + 32*t**3 + 12*t**2 + 4*t + 1)/(8*t**3*sqrt(16*t**4 + 8*t**2 + 1) + 8*t**2*sqrt(16*t**4 + 8*t**2 + 1) + 2*t*sqrt(16*t**4 + 8*t**2 + 1)) + sqrt(64*t**6 + 64*t**5 + 48*t**4 + 32*t**3 + 12*t**2 + 4*t + 1)/(8*t**3*sqrt(16*t**4 + 8*t**2 + 1) + 8*t**2*sqrt(16*t**4 + 8*t**2 + 1) + 2*t*sqrt(16*t**4 + 8*t**2 + 1))"
      ]
     },
     "metadata": {},
     "output_type": "display_data"
    }
   ],
   "source": [
    "sols=cov.calc_X_deriv_xi()\n",
    "display(*sols)"
   ]
  },
  {
   "cell_type": "code",
   "execution_count": 14,
   "id": "ede4d374",
   "metadata": {},
   "outputs": [
    {
     "name": "stdout",
     "output_type": "stream",
     "text": [
      "DX/dt:\n"
     ]
    },
    {
     "data": {
      "text/latex": [
       "$\\displaystyle \\left[\\begin{matrix}\\frac{4 t^{\\frac{3}{2}} \\left(- \\frac{48 t^{\\frac{9}{2}} \\sqrt{16 t^{4} + 16 t^{3} + 8 t^{2} + 4 t + 1}}{256 t^{8} + 256 t^{7} + 192 t^{6} + 128 t^{5} + 48 t^{4} + 16 t^{3} + 4 t^{2}} - \\frac{8 t^{\\frac{5}{2}} \\sqrt{16 t^{4} + 16 t^{3} + 8 t^{2} + 4 t + 1}}{256 t^{8} + 256 t^{7} + 192 t^{6} + 128 t^{5} + 48 t^{4} + 16 t^{3} + 4 t^{2}} + \\frac{\\sqrt{t} \\sqrt{16 t^{4} + 16 t^{3} + 8 t^{2} + 4 t + 1}}{256 t^{8} + 256 t^{7} + 192 t^{6} + 128 t^{5} + 48 t^{4} + 16 t^{3} + 4 t^{2}}\\right)}{\\sqrt{16 t^{3} + 4 t + \\left(4 t^{2} + 1\\right)^{2}}} + \\frac{4 t}{4 t^{2} + 1} & \\frac{\\left(4 t^{2} + 1\\right) \\left(- \\frac{48 t^{\\frac{9}{2}} \\sqrt{16 t^{4} + 16 t^{3} + 8 t^{2} + 4 t + 1}}{256 t^{8} + 256 t^{7} + 192 t^{6} + 128 t^{5} + 48 t^{4} + 16 t^{3} + 4 t^{2}} - \\frac{8 t^{\\frac{5}{2}} \\sqrt{16 t^{4} + 16 t^{3} + 8 t^{2} + 4 t + 1}}{256 t^{8} + 256 t^{7} + 192 t^{6} + 128 t^{5} + 48 t^{4} + 16 t^{3} + 4 t^{2}} + \\frac{\\sqrt{t} \\sqrt{16 t^{4} + 16 t^{3} + 8 t^{2} + 4 t + 1}}{256 t^{8} + 256 t^{7} + 192 t^{6} + 128 t^{5} + 48 t^{4} + 16 t^{3} + 4 t^{2}}\\right)}{\\sqrt{16 t^{3} + 4 t + \\left(4 t^{2} + 1\\right)^{2}}} & - \\frac{2 \\sqrt{t} \\left(- \\frac{48 t^{\\frac{9}{2}} \\sqrt{16 t^{4} + 16 t^{3} + 8 t^{2} + 4 t + 1}}{256 t^{8} + 256 t^{7} + 192 t^{6} + 128 t^{5} + 48 t^{4} + 16 t^{3} + 4 t^{2}} - \\frac{8 t^{\\frac{5}{2}} \\sqrt{16 t^{4} + 16 t^{3} + 8 t^{2} + 4 t + 1}}{256 t^{8} + 256 t^{7} + 192 t^{6} + 128 t^{5} + 48 t^{4} + 16 t^{3} + 4 t^{2}} + \\frac{\\sqrt{t} \\sqrt{16 t^{4} + 16 t^{3} + 8 t^{2} + 4 t + 1}}{256 t^{8} + 256 t^{7} + 192 t^{6} + 128 t^{5} + 48 t^{4} + 16 t^{3} + 4 t^{2}}\\right)}{\\sqrt{16 t^{3} + 4 t + \\left(4 t^{2} + 1\\right)^{2}}} + \\frac{8 t^{2}}{4 t^{2} + 1}\\end{matrix}\\right]$"
      ],
      "text/plain": [
       "[4*t**(3/2)*(-48*t**(9/2)*sqrt(16*t**4 + 16*t**3 + 8*t**2 + 4*t + 1)/(256*t**8 + 256*t**7 + 192*t**6 + 128*t**5 + 48*t**4 + 16*t**3 + 4*t**2) - 8*t**(5/2)*sqrt(16*t**4 + 16*t**3 + 8*t**2 + 4*t + 1)/(256*t**8 + 256*t**7 + 192*t**6 + 128*t**5 + 48*t**4 + 16*t**3 + 4*t**2) + sqrt(t)*sqrt(16*t**4 + 16*t**3 + 8*t**2 + 4*t + 1)/(256*t**8 + 256*t**7 + 192*t**6 + 128*t**5 + 48*t**4 + 16*t**3 + 4*t**2))/sqrt(16*t**3 + 4*t + (4*t**2 + 1)**2) + 4*t/(4*t**2 + 1), (4*t**2 + 1)*(-48*t**(9/2)*sqrt(16*t**4 + 16*t**3 + 8*t**2 + 4*t + 1)/(256*t**8 + 256*t**7 + 192*t**6 + 128*t**5 + 48*t**4 + 16*t**3 + 4*t**2) - 8*t**(5/2)*sqrt(16*t**4 + 16*t**3 + 8*t**2 + 4*t + 1)/(256*t**8 + 256*t**7 + 192*t**6 + 128*t**5 + 48*t**4 + 16*t**3 + 4*t**2) + sqrt(t)*sqrt(16*t**4 + 16*t**3 + 8*t**2 + 4*t + 1)/(256*t**8 + 256*t**7 + 192*t**6 + 128*t**5 + 48*t**4 + 16*t**3 + 4*t**2))/sqrt(16*t**3 + 4*t + (4*t**2 + 1)**2), -2*sqrt(t)*(-48*t**(9/2)*sqrt(16*t**4 + 16*t**3 + 8*t**2 + 4*t + 1)/(256*t**8 + 256*t**7 + 192*t**6 + 128*t**5 + 48*t**4 + 16*t**3 + 4*t**2) - 8*t**(5/2)*sqrt(16*t**4 + 16*t**3 + 8*t**2 + 4*t + 1)/(256*t**8 + 256*t**7 + 192*t**6 + 128*t**5 + 48*t**4 + 16*t**3 + 4*t**2) + sqrt(t)*sqrt(16*t**4 + 16*t**3 + 8*t**2 + 4*t + 1)/(256*t**8 + 256*t**7 + 192*t**6 + 128*t**5 + 48*t**4 + 16*t**3 + 4*t**2))/sqrt(16*t**3 + 4*t + (4*t**2 + 1)**2) + 8*t**2/(4*t**2 + 1)]"
      ]
     },
     "metadata": {},
     "output_type": "display_data"
    },
    {
     "name": "stdout",
     "output_type": "stream",
     "text": [
      "A_X:\n"
     ]
    },
    {
     "data": {
      "text/latex": [
       "$\\displaystyle \\left[\\begin{matrix}- \\frac{2 t \\left(\\frac{4 t \\sqrt{64 t^{6} + 64 t^{5} + 48 t^{4} + 32 t^{3} + 12 t^{2} + 4 t + 1}}{8 t^{3} \\sqrt{16 t^{4} + 8 t^{2} + 1} + 8 t^{2} \\sqrt{16 t^{4} + 8 t^{2} + 1} + 2 t \\sqrt{16 t^{4} + 8 t^{2} + 1}} + \\frac{\\sqrt{64 t^{6} + 64 t^{5} + 48 t^{4} + 32 t^{3} + 12 t^{2} + 4 t + 1}}{8 t^{3} \\sqrt{16 t^{4} + 8 t^{2} + 1} + 8 t^{2} \\sqrt{16 t^{4} + 8 t^{2} + 1} + 2 t \\sqrt{16 t^{4} + 8 t^{2} + 1}}\\right) \\sqrt{16 t^{4} + 8 t^{2} + 1}}{\\sqrt{64 t^{6} + 64 t^{5} + 48 t^{4} + 32 t^{3} + 12 t^{2} + 4 t + 1}} & \\frac{2 \\sqrt{t} \\left(\\frac{4 t \\sqrt{64 t^{6} + 64 t^{5} + 48 t^{4} + 32 t^{3} + 12 t^{2} + 4 t + 1}}{8 t^{3} \\sqrt{16 t^{4} + 8 t^{2} + 1} + 8 t^{2} \\sqrt{16 t^{4} + 8 t^{2} + 1} + 2 t \\sqrt{16 t^{4} + 8 t^{2} + 1}} + \\frac{\\sqrt{64 t^{6} + 64 t^{5} + 48 t^{4} + 32 t^{3} + 12 t^{2} + 4 t + 1}}{8 t^{3} \\sqrt{16 t^{4} + 8 t^{2} + 1} + 8 t^{2} \\sqrt{16 t^{4} + 8 t^{2} + 1} + 2 t \\sqrt{16 t^{4} + 8 t^{2} + 1}}\\right) \\sqrt{16 t^{4} + 8 t^{2} + 1}}{\\sqrt{64 t^{6} + 64 t^{5} + 48 t^{4} + 32 t^{3} + 12 t^{2} + 4 t + 1}} & \\frac{\\left(\\frac{4 t \\sqrt{64 t^{6} + 64 t^{5} + 48 t^{4} + 32 t^{3} + 12 t^{2} + 4 t + 1}}{8 t^{3} \\sqrt{16 t^{4} + 8 t^{2} + 1} + 8 t^{2} \\sqrt{16 t^{4} + 8 t^{2} + 1} + 2 t \\sqrt{16 t^{4} + 8 t^{2} + 1}} + \\frac{\\sqrt{64 t^{6} + 64 t^{5} + 48 t^{4} + 32 t^{3} + 12 t^{2} + 4 t + 1}}{8 t^{3} \\sqrt{16 t^{4} + 8 t^{2} + 1} + 8 t^{2} \\sqrt{16 t^{4} + 8 t^{2} + 1} + 2 t \\sqrt{16 t^{4} + 8 t^{2} + 1}}\\right) \\sqrt{16 t^{4} + 8 t^{2} + 1}}{\\sqrt{64 t^{6} + 64 t^{5} + 48 t^{4} + 32 t^{3} + 12 t^{2} + 4 t + 1}}\\end{matrix}\\right]$"
      ],
      "text/plain": [
       "[-2*t*(4*t*sqrt(64*t**6 + 64*t**5 + 48*t**4 + 32*t**3 + 12*t**2 + 4*t + 1)/(8*t**3*sqrt(16*t**4 + 8*t**2 + 1) + 8*t**2*sqrt(16*t**4 + 8*t**2 + 1) + 2*t*sqrt(16*t**4 + 8*t**2 + 1)) + sqrt(64*t**6 + 64*t**5 + 48*t**4 + 32*t**3 + 12*t**2 + 4*t + 1)/(8*t**3*sqrt(16*t**4 + 8*t**2 + 1) + 8*t**2*sqrt(16*t**4 + 8*t**2 + 1) + 2*t*sqrt(16*t**4 + 8*t**2 + 1)))*sqrt(16*t**4 + 8*t**2 + 1)/sqrt(64*t**6 + 64*t**5 + 48*t**4 + 32*t**3 + 12*t**2 + 4*t + 1), 2*sqrt(t)*(4*t*sqrt(64*t**6 + 64*t**5 + 48*t**4 + 32*t**3 + 12*t**2 + 4*t + 1)/(8*t**3*sqrt(16*t**4 + 8*t**2 + 1) + 8*t**2*sqrt(16*t**4 + 8*t**2 + 1) + 2*t*sqrt(16*t**4 + 8*t**2 + 1)) + sqrt(64*t**6 + 64*t**5 + 48*t**4 + 32*t**3 + 12*t**2 + 4*t + 1)/(8*t**3*sqrt(16*t**4 + 8*t**2 + 1) + 8*t**2*sqrt(16*t**4 + 8*t**2 + 1) + 2*t*sqrt(16*t**4 + 8*t**2 + 1)))*sqrt(16*t**4 + 8*t**2 + 1)/sqrt(64*t**6 + 64*t**5 + 48*t**4 + 32*t**3 + 12*t**2 + 4*t + 1), (4*t*sqrt(64*t**6 + 64*t**5 + 48*t**4 + 32*t**3 + 12*t**2 + 4*t + 1)/(8*t**3*sqrt(16*t**4 + 8*t**2 + 1) + 8*t**2*sqrt(16*t**4 + 8*t**2 + 1) + 2*t*sqrt(16*t**4 + 8*t**2 + 1)) + sqrt(64*t**6 + 64*t**5 + 48*t**4 + 32*t**3 + 12*t**2 + 4*t + 1)/(8*t**3*sqrt(16*t**4 + 8*t**2 + 1) + 8*t**2*sqrt(16*t**4 + 8*t**2 + 1) + 2*t*sqrt(16*t**4 + 8*t**2 + 1)))*sqrt(16*t**4 + 8*t**2 + 1)/sqrt(64*t**6 + 64*t**5 + 48*t**4 + 32*t**3 + 12*t**2 + 4*t + 1)]"
      ]
     },
     "metadata": {},
     "output_type": "display_data"
    }
   ],
   "source": [
    "print(\"DX/dt:\")\n",
    "DXdt=cov.covariant_deriv()\n",
    "display(DXdt)\n",
    "print(\"A_X:\")\n",
    "A_X=cov.normal_vector()\n",
    "display(A_X)"
   ]
  },
  {
   "cell_type": "code",
   "execution_count": 15,
   "id": "b148ab66",
   "metadata": {},
   "outputs": [
    {
     "name": "stdout",
     "output_type": "stream",
     "text": [
      "X'\n"
     ]
    },
    {
     "data": {
      "text/latex": [
       "$\\displaystyle \\left[\\begin{matrix}0 & \\frac{1}{4 t^{\\frac{3}{2}}} & 2\\end{matrix}\\right]$"
      ],
      "text/plain": [
       "[0, 1/(4*t**(3/2)), 2]"
      ]
     },
     "metadata": {},
     "output_type": "display_data"
    }
   ],
   "source": [
    "print(\"X'\")\n",
    "X_d=cov.X_deriv()\n",
    "display(X_d)"
   ]
  },
  {
   "cell_type": "code",
   "execution_count": 16,
   "id": "b240d454",
   "metadata": {},
   "outputs": [],
   "source": [
    "dXdt=(DXdt+A_X).simplify()"
   ]
  },
  {
   "cell_type": "code",
   "execution_count": 17,
   "id": "7c55c286",
   "metadata": {},
   "outputs": [
    {
     "name": "stdout",
     "output_type": "stream",
     "text": [
      "t = 0\n",
      "expected:\n"
     ]
    },
    {
     "data": {
      "text/latex": [
       "$\\displaystyle \\left[\\begin{matrix}0 & \\tilde{\\infty} & 2\\end{matrix}\\right]$"
      ],
      "text/plain": [
       "[0, zoo, 2]"
      ]
     },
     "metadata": {},
     "output_type": "display_data"
    },
    {
     "name": "stdout",
     "output_type": "stream",
     "text": [
      "actual:\n"
     ]
    },
    {
     "data": {
      "text/latex": [
       "$\\displaystyle \\left[\\begin{matrix}0 & \\tilde{\\infty} & \\text{NaN}\\end{matrix}\\right]$"
      ],
      "text/plain": [
       "[0, zoo, nan]"
      ]
     },
     "metadata": {},
     "output_type": "display_data"
    },
    {
     "name": "stdout",
     "output_type": "stream",
     "text": [
      "\n",
      "t = 5\n",
      "expected:\n"
     ]
    },
    {
     "data": {
      "text/latex": [
       "$\\displaystyle \\left[\\begin{matrix}0 & \\frac{\\sqrt{5}}{100} & 2\\end{matrix}\\right]$"
      ],
      "text/plain": [
       "[0, sqrt(5)/100, 2]"
      ]
     },
     "metadata": {},
     "output_type": "display_data"
    },
    {
     "name": "stdout",
     "output_type": "stream",
     "text": [
      "actual:\n"
     ]
    },
    {
     "data": {
      "text/latex": [
       "$\\displaystyle \\left[\\begin{matrix}0 & \\frac{\\sqrt{5}}{100} & 2\\end{matrix}\\right]$"
      ],
      "text/plain": [
       "[0, sqrt(5)/100, 2]"
      ]
     },
     "metadata": {},
     "output_type": "display_data"
    },
    {
     "name": "stdout",
     "output_type": "stream",
     "text": [
      "\n",
      "t = -1\n",
      "expected:\n"
     ]
    },
    {
     "data": {
      "text/latex": [
       "$\\displaystyle \\left[\\begin{matrix}0 & \\frac{i}{4} & 2\\end{matrix}\\right]$"
      ],
      "text/plain": [
       "[0, I/4, 2]"
      ]
     },
     "metadata": {},
     "output_type": "display_data"
    },
    {
     "name": "stdout",
     "output_type": "stream",
     "text": [
      "actual:\n"
     ]
    },
    {
     "data": {
      "text/latex": [
       "$\\displaystyle \\left[\\begin{matrix}0 & \\frac{i}{4} & 2\\end{matrix}\\right]$"
      ],
      "text/plain": [
       "[0, I/4, 2]"
      ]
     },
     "metadata": {},
     "output_type": "display_data"
    },
    {
     "name": "stdout",
     "output_type": "stream",
     "text": [
      "\n",
      "t = 0.5\n",
      "expected:\n"
     ]
    },
    {
     "data": {
      "text/latex": [
       "$\\displaystyle \\left[\\begin{matrix}0 & 0.707106781186548 & 2\\end{matrix}\\right]$"
      ],
      "text/plain": [
       "[0, 0.707106781186548, 2]"
      ]
     },
     "metadata": {},
     "output_type": "display_data"
    },
    {
     "name": "stdout",
     "output_type": "stream",
     "text": [
      "actual:\n"
     ]
    },
    {
     "data": {
      "text/latex": [
       "$\\displaystyle \\left[\\begin{matrix}-3.92523114670944 \\cdot 10^{-17} & 0.707106781186548 & 2.0\\end{matrix}\\right]$"
      ],
      "text/plain": [
       "[-3.92523114670944e-17, 0.707106781186548, 2.0]"
      ]
     },
     "metadata": {},
     "output_type": "display_data"
    },
    {
     "name": "stdout",
     "output_type": "stream",
     "text": [
      "\n",
      "t = 2\n",
      "expected:\n"
     ]
    },
    {
     "data": {
      "text/latex": [
       "$\\displaystyle \\left[\\begin{matrix}0 & \\frac{\\sqrt{2}}{16} & 2\\end{matrix}\\right]$"
      ],
      "text/plain": [
       "[0, sqrt(2)/16, 2]"
      ]
     },
     "metadata": {},
     "output_type": "display_data"
    },
    {
     "name": "stdout",
     "output_type": "stream",
     "text": [
      "actual:\n"
     ]
    },
    {
     "data": {
      "text/latex": [
       "$\\displaystyle \\left[\\begin{matrix}0 & \\frac{\\sqrt{2}}{16} & 2\\end{matrix}\\right]$"
      ],
      "text/plain": [
       "[0, sqrt(2)/16, 2]"
      ]
     },
     "metadata": {},
     "output_type": "display_data"
    },
    {
     "name": "stdout",
     "output_type": "stream",
     "text": [
      "\n",
      "t = -2\n",
      "expected:\n"
     ]
    },
    {
     "data": {
      "text/latex": [
       "$\\displaystyle \\left[\\begin{matrix}0 & \\frac{\\sqrt{2} i}{16} & 2\\end{matrix}\\right]$"
      ],
      "text/plain": [
       "[0, sqrt(2)*I/16, 2]"
      ]
     },
     "metadata": {},
     "output_type": "display_data"
    },
    {
     "name": "stdout",
     "output_type": "stream",
     "text": [
      "actual:\n"
     ]
    },
    {
     "data": {
      "text/latex": [
       "$\\displaystyle \\left[\\begin{matrix}0 & \\frac{\\sqrt{2} i}{16} & 2\\end{matrix}\\right]$"
      ],
      "text/plain": [
       "[0, sqrt(2)*I/16, 2]"
      ]
     },
     "metadata": {},
     "output_type": "display_data"
    },
    {
     "name": "stdout",
     "output_type": "stream",
     "text": [
      "\n"
     ]
    }
   ],
   "source": [
    "for t_i in [0,5,-1,0.5,2,-2]:\n",
    "    print(\"t =\",t_i)\n",
    "    [(print(k[0]),display(k[1])) for k in [(\"expected:\",X_d.subs(t,t_i)),(\"actual:\",dXdt.subs(t,t_i))]]\n",
    "    print()"
   ]
  },
  {
   "cell_type": "markdown",
   "id": "2a1b2fe4",
   "metadata": {},
   "source": [
    "![](./images/im3.4.2.png)"
   ]
  },
  {
   "cell_type": "code",
   "execution_count": null,
   "id": "8e94cf83",
   "metadata": {},
   "outputs": [],
   "source": []
  }
 ],
 "metadata": {
  "kernelspec": {
   "display_name": "Python 3 (ipykernel)",
   "language": "python",
   "name": "python3"
  },
  "language_info": {
   "codemirror_mode": {
    "name": "ipython",
    "version": 3
   },
   "file_extension": ".py",
   "mimetype": "text/x-python",
   "name": "python",
   "nbconvert_exporter": "python",
   "pygments_lexer": "ipython3",
   "version": "3.10.7"
  }
 },
 "nbformat": 4,
 "nbformat_minor": 5
}
